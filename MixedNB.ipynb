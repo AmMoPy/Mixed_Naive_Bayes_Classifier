{
 "cells": [
  {
   "cell_type": "markdown",
   "id": "bbb956c7",
   "metadata": {},
   "source": [
    "<a id='toc'></a>"
   ]
  },
  {
   "cell_type": "markdown",
   "id": "177d7339",
   "metadata": {},
   "source": [
    "##### Table of contents\n",
    "\n",
    "* <a href=\"#te\" style='color:#a52a2a'>Train & Eval Function</a>\n",
    "\n",
    "* <a href=\"#bp\" style='color:#a52a2a'>Mixed Naive Bayes Blueprint</a>\n",
    "\n",
    "* <a href=\"#imp\" style='color:#a52a2a'>Implementation - Bank Churn Data</a>\n",
    "\n",
    "* <a href=\"#eval\" style='color:#a52a2a'>Model Evaluation</a>\n",
    "\n",
    "* <a href=\"#zf\" style='color:#a52a2a'>Zero Frequency Problem</a>\n",
    "\n",
    "* <a href=\"#tm\" style='color:#a52a2a'>Threshold Moving</a>\n",
    "\n",
    "* <a href=\"#impt\" style='color:#a52a2a'>Implementation - Toy Data</a>\n",
    "\n",
    "* <a href=\"#gc\" style='color:#a52a2a'>Groupby vs Crosstab</a>\n",
    "\n",
    "Check My [YT channel](https://www.youtube.com/@ammopy)"
   ]
  },
  {
   "cell_type": "code",
   "execution_count": 1,
   "id": "3ab22ac1",
   "metadata": {
    "scrolled": false
   },
   "outputs": [
    {
     "data": {
      "text/html": [
       "\n",
       "    <script>\n",
       "    function code_toggle() {\n",
       "        if ($('div.cell.code_cell.rendered.selected div.input').css('display')!='none'){\n",
       "            $('div.cell.code_cell.rendered.selected div.input').hide();\n",
       "        } else {\n",
       "            $('div.cell.code_cell.rendered.selected div.input').show();\n",
       "        }\n",
       "    }\n",
       "    </script>\n",
       "\n",
       "<form action=\"javascript:code_toggle()\"><input type=\"submit\" id=\"toggleButton\" value=\"Show Code\"></form>\n"
      ],
      "text/plain": [
       "<IPython.core.display.HTML object>"
      ]
     },
     "metadata": {},
     "output_type": "display_data"
    }
   ],
   "source": [
    "import pandas as pd\n",
    "import numpy as np\n",
    "import seaborn as sns\n",
    "import matplotlib.pyplot as plt\n",
    "\n",
    "from sklearn.naive_bayes import GaussianNB, BernoulliNB, CategoricalNB\n",
    "from sklearn.model_selection import train_test_split, StratifiedKFold, cross_val_score\n",
    "from sklearn.metrics import classification_report, confusion_matrix, recall_score\n",
    "from sklearn.preprocessing import MinMaxScaler, LabelEncoder\n",
    "\n",
    "from scipy import stats\n",
    "from dataclasses import dataclass\n",
    "\n",
    "from ipywidgets import interact, FloatSlider\n",
    "from IPython.display import display\n",
    "from jupyterthemes import jtplot\n",
    "\n",
    "jtplot.style(context='notebook', ticks=True, grid=False)\n",
    "\n",
    "from show_input import hide_code"
   ]
  },
  {
   "cell_type": "markdown",
   "id": "e9b7993f",
   "metadata": {},
   "source": [
    "**<a href=\"#toc\" style='color:#dc143c'>Table of contents</a>**"
   ]
  },
  {
   "cell_type": "markdown",
   "id": "bc130886",
   "metadata": {},
   "source": [
    "<a id='te'></a>"
   ]
  },
  {
   "cell_type": "code",
   "execution_count": 2,
   "id": "30a08f18",
   "metadata": {},
   "outputs": [
    {
     "data": {
      "text/html": [
       "\n",
       "<form action=\"javascript:code_toggle()\"><input type=\"submit\" id=\"toggleButton\" value=\"Show Code\"></form>\n"
      ],
      "text/plain": [
       "<IPython.core.display.HTML object>"
      ]
     },
     "metadata": {},
     "output_type": "display_data"
    }
   ],
   "source": [
    "# function to iterate model training\n",
    "\n",
    "hide_code() # hide code cell\n",
    "\n",
    "def train_eval(model, df, target, dist = False, kfcv = False):\n",
    "    \"\"\"\n",
    "    Train & Evaluate a given Model\n",
    "    \"\"\"   \n",
    "    \n",
    "    m = model\n",
    "    \n",
    "    if kfcv:\n",
    "        # cross validation scheme - stratified Kfold\n",
    "        skf = StratifiedKFold(shuffle = True, random_state = 42)\n",
    "        \n",
    "        # result container\n",
    "        recall = []\n",
    "        \n",
    "        fold = 1 # fold counter\n",
    "\n",
    "        for idx_tr, idx_ts in skf.split(df.drop(target, axis = 1), df[target]): # 80/20 splits\n",
    "            x_tr, x_ts = df.iloc[idx_tr].drop(target, axis = 1), df.iloc[idx_ts].drop(target, axis = 1) \n",
    "            y_tr, y_ts = df.iloc[idx_tr][target], df.iloc[idx_ts][target]\n",
    "            \n",
    "            if dist: # mixed_nb\n",
    "                tr_df = pd.concat([x_tr, y_tr], axis = 1)\n",
    "                m.fit(tr_df, target, dist)\n",
    "            else:\n",
    "                m.fit(x_tr, y_tr)\n",
    "            \n",
    "            # predict\n",
    "            y_pred_tr =  m.predict(x_tr)\n",
    "            y_pred_ts =  m.predict(x_ts)\n",
    "            \n",
    "            if df[target].nunique() > 2: # multiclass\n",
    "                tr_rec, ts_rec = recall_score(y_tr, y_pred_tr, average = 'macro'), recall_score(y_ts, y_pred_ts, average = 'macro')\n",
    "            else:\n",
    "                tr_rec, ts_rec = recall_score(y_tr, y_pred_tr), recall_score(y_ts, y_pred_ts)\n",
    "            \n",
    "            print(f'Fold {fold}: Training - Recall: {tr_rec.round(3):5}    Testing - Recall: {ts_rec.round(3):5}', \n",
    "                  '-' * 5, 'Confusion Matrix', '-' * 15, confusion_matrix(y_ts, y_pred_ts),'-' * 60, sep = '\\n')\n",
    "\n",
    "            recall.append(ts_rec) # update\n",
    "            fold += 1\n",
    "            \n",
    "        print(f'Avg Recall: {np.mean(recall).round(3)}', sep = '')\n",
    "\n",
    "    else:\n",
    "        \n",
    "        # single validation set\n",
    "        x_tr, x_ts, y_tr, y_ts = train_test_split(df.drop(target, axis = 1), df[target], stratify = df[target], \n",
    "                                                  test_size = .25, random_state = 42)\n",
    "        \n",
    "        if dist: # mixed_nb\n",
    "            tr_df = pd.concat([x_tr, y_tr], axis = 1)\n",
    "            m.fit(tr_df, target, dist)\n",
    "        else:\n",
    "            m.fit(x_tr, y_tr) # fit\n",
    "\n",
    "        y_pred =  m.predict(x_ts) # predict\n",
    "\n",
    "        # evaluate\n",
    "        print('Classification Report', '-' * 20, classification_report(y_ts, y_pred, zero_division = 0), '-' * 40,  \n",
    "              'Confusion Matrix', '-' * 15, confusion_matrix(y_ts, y_pred), sep = '\\n')\n",
    "    \n",
    "    return m"
   ]
  },
  {
   "cell_type": "markdown",
   "id": "094460c7",
   "metadata": {},
   "source": [
    "**<a href=\"#toc\" style='color:#dc143c'>Table of contents</a>**"
   ]
  },
  {
   "cell_type": "markdown",
   "id": "dfd9aea7",
   "metadata": {},
   "source": [
    "<a id='bp'></a>"
   ]
  },
  {
   "cell_type": "code",
   "execution_count": 3,
   "id": "4b30e6ac",
   "metadata": {},
   "outputs": [
    {
     "data": {
      "text/html": [
       "\n",
       "<form action=\"javascript:code_toggle()\"><input type=\"submit\" id=\"toggleButton\" value=\"Show Code\"></form>\n"
      ],
      "text/plain": [
       "<IPython.core.display.HTML object>"
      ]
     },
     "metadata": {},
     "output_type": "display_data"
    }
   ],
   "source": [
    "# Containers of parameters\n",
    "\n",
    "hide_code() # hide code cell\n",
    "\n",
    "@dataclass\n",
    "class params_gaussian:\n",
    "    mu: float\n",
    "    sigma: float\n",
    "        \n",
    "    def __repr__(self):\n",
    "        '''Controls decimal points when printing an object of this dataclass'''\n",
    "        return f\"params_gaussian(mu={self.mu:.3f}, sigma={self.sigma:.3f})\"\n",
    "    \n",
    "@dataclass\n",
    "class params_binomial:\n",
    "    n: int\n",
    "    p: float\n",
    "        \n",
    "    def __repr__(self):\n",
    "        return f\"params_binomial(n={self.n:.3f}, p={self.p:.3f})\"\n",
    "    \n",
    "@dataclass\n",
    "class params_bernoulli:\n",
    "    p: float\n",
    "        \n",
    "    def __repr__(self):\n",
    "        return f\"params_bernoulli(p={self.p:.3f})\"\n",
    "    \n",
    "@dataclass\n",
    "class params_uniform:\n",
    "    a: int\n",
    "    b: int\n",
    "        \n",
    "    def __repr__(self):\n",
    "        return f\"params_uniform(a={self.a:.3f}, b={self.b:.3f})\""
   ]
  },
  {
   "cell_type": "code",
   "execution_count": 4,
   "id": "1fc3c309",
   "metadata": {},
   "outputs": [
    {
     "data": {
      "text/html": [
       "\n",
       "<form action=\"javascript:code_toggle()\"><input type=\"submit\" id=\"toggleButton\" value=\"Show Code\"></form>\n"
      ],
      "text/plain": [
       "<IPython.core.display.HTML object>"
      ]
     },
     "metadata": {},
     "output_type": "display_data"
    }
   ],
   "source": [
    "# Mixed Naive Bayes Classifier\n",
    "\n",
    "hide_code() # hide code cell\n",
    "\n",
    "class mixed_nb:\n",
    "    '''Naive Bayes classifier for categorical and numeric features'''\n",
    "    \n",
    "    def __init__(self, prior = None, alpha = 0):\n",
    "        ''' \n",
    "            prior: dict of class prior\n",
    "            alpha: Additive (Laplace) smoothing parameter, (x + alpha / n + alpha * k) where:\n",
    "                   x: category/level count per class\n",
    "                   n: total observations per class\n",
    "                   k: total categories/levels per feature\n",
    "        '''\n",
    "        self.prior = prior\n",
    "        self.alpha = alpha\n",
    "        \n",
    "    def fit(self, df, target, dist):\n",
    "\n",
    "        assert len(dist) == len(df.columns.drop(target)), 'Probability Distribution & Number Of Features Mismatch' \n",
    "    \n",
    "        self.class_label = sorted(df[target].unique()) # class labels\n",
    "        self.n_class = len(self.class_label) # class count\n",
    "        self.dist = dist # feature distribution\n",
    "        \n",
    "        # Dict that should contain the proportion of data belonging to each class\n",
    "        if self.prior:\n",
    "            prior_dict = self.prior\n",
    "        else: # estimate prior from training dataset\n",
    "            prior_dict = df[target].value_counts(normalize = True).sort_index().to_dict()\n",
    "\n",
    "        # Container of estimated parameters for each class\n",
    "        params_dict = {}\n",
    "\n",
    "        for clss in self.class_label: # for each class\n",
    "            \n",
    "            temp_df = df[df[target] == clss]\n",
    "            \n",
    "            # Container of estimated parameters for each feature\n",
    "            feat_dict = {}\n",
    "\n",
    "            for col, d in self.dist.items(): # for each feature\n",
    "                \n",
    "                if d == 'n': # gaussian\n",
    "                    assert pd.api.types.is_numeric_dtype(temp_df[col]), \\\n",
    "                    f'\\'{col}\\' Distribution \\'{d}\\' and it\\'s Dtype \\'{temp_df[col].dtype}\\' Mismatch'\n",
    "                    m, s = np.mean(temp_df[col]), np.std(temp_df[col]) # Maximum Likelihood Estimate\n",
    "                    params = params_gaussian(mu = m, sigma = s)\n",
    "                elif d == 'bi': # binomial\n",
    "                    assert pd.api.types.is_numeric_dtype(temp_df[col]), \\\n",
    "                    f'\\'{col}\\' Distribution \\'{d}\\' and it\\'s Dtype \\'{temp_df[col].dtype}\\' Mismatch'\n",
    "                    n = 30\n",
    "                    p = (temp_df[col] / n).mean() # Maximum Likelihood Estimate\n",
    "                    params = params_binomial(n = n, p = p) \n",
    "                elif d == 'u': # continous uniform\n",
    "                    assert pd.api.types.is_numeric_dtype(temp_df[col]), \\\n",
    "                    f'\\'{col}\\' Distribution \\'{d}\\' and it\\'s Dtype \\'{temp_df[col].dtype}\\' Mismatch'\n",
    "                    a, b = temp_df[col].min(), temp_df[col].max() # Maximum Likelihood Estimate\n",
    "                    params = params_uniform(a = a, b = b)\n",
    "                elif d == 'br': # discrete Bernoulli\n",
    "                    assert pd.api.types.is_numeric_dtype(temp_df[col]), \\\n",
    "                    f'\\'{col}\\' Distribution \\'{d}\\' and it\\'s Dtype \\'{temp_df[col].dtype}\\' Mismatch'\n",
    "                    if self.alpha == 0: # Check for zero frequency\n",
    "                        assert temp_df[col].mean() != 0, f'Zero frequency encountered for \\'{col}\\' feature in \\'{clss}\\' class, ' \\\n",
    "                        'please specify alpha or remove feature.'\n",
    "                        p = temp_df[col].mean() # Maximum Likelihood Estimate\n",
    "                        params = params_bernoulli(p = p)\n",
    "                    if self.alpha > 0:\n",
    "                        # +2 as feature has 2 levels either 0 or 1\n",
    "                        p = (temp_df[col].sum() + self.alpha) / (len(temp_df) + (self.alpha * 2)) # P feature == 1\n",
    "                        params = params_bernoulli(p = p)\n",
    "                elif d == 'c': # Categorical/Multinoulli           \n",
    "                    msng = [x for x in df[col].unique() if x not in temp_df[col].unique()] # lvl with zero frequency, if any.\n",
    "                    if self.alpha == 0: # Check for zero frequency\n",
    "                        assert len(msng) == 0, f'Zero frequency encountered for lvl(s) \\'{msng}\\' of \\'{col}\\' feature in ' \\\n",
    "                        f'{clss}\\' class, please specify alpha or remove feature.'     \n",
    "                        params = temp_df[col].value_counts(normalize = True).sort_index().to_dict() # Maximum Likelihood Estimate\n",
    "                    if self.alpha > 0:\n",
    "                        if len(msng) > 0: # account for lvl(s) with zero frequency\n",
    "                            n_level = temp_df[col].nunique() + len(msng)    \n",
    "                            params = dict(temp_df[col].value_counts().sort_index().add(self.alpha) / \\\n",
    "                                          (len(temp_df) + (self.alpha * n_level))) \n",
    "                            for lvl in msng:\n",
    "                                params[lvl] = self.alpha / (len(temp_df) + (self.alpha * n_level))\n",
    "                            params = dict(sorted(params.items())) # sorting final param dict\n",
    "                        else:\n",
    "                            n_level = temp_df[col].nunique()\n",
    "                            params = dict(temp_df[col].value_counts().sort_index().add(self.alpha) / \\\n",
    "                                          (len(temp_df) + (self.alpha * n_level)))                             \n",
    "                \n",
    "                # Update feature params\n",
    "                feat_dict[col] = params\n",
    "\n",
    "            # Update class container with feature params\n",
    "            params_dict[clss] = feat_dict\n",
    "        \n",
    "        self.prior_dict = prior_dict\n",
    "        self.params_dict = params_dict\n",
    "        \n",
    "        return self \n",
    "    \n",
    "    def predict(self, x_test):\n",
    "    \n",
    "        pred_array = np.zeros((len(x_test), self.n_class)) # array of predictions with shape (m: test samples , n: class label)\n",
    "        \n",
    "        n = 0 # counter to update prediction array for each class iteration, if class label is string.\n",
    "        \n",
    "        for clss in self.class_label: # for each class, start with 'No - 0 class label', order matters to update prediction array\n",
    "               \n",
    "            prob_ = 1 # initial probability\n",
    "#             prob_ = 0 # initial probability for log implementation\n",
    "\n",
    "            params = self.params_dict[clss] # fetch class params\n",
    "\n",
    "            # P(X | C) for each value of x for a given feature with a specific distribution within each class \n",
    "            for feat, d in self.dist.items():\n",
    "                \n",
    "                if d == 'n': # gaussian\n",
    "                    proba = stats.norm(params[feat].mu, params[feat].sigma).pdf(x_test[feat].values).reshape(-1,1)\n",
    "                    prob_ *= proba # update initial probability              \n",
    "                elif d == 'bi': # binomial\n",
    "                    proba = stats.binom(params[feat].n, params[feat].p).pmf(x_test[feat].values).reshape(-1,1)\n",
    "                    prob_ *= proba\n",
    "                elif d == 'u': # continuous uniform\n",
    "                    a = params[feat].a\n",
    "                    b = params[feat].b\n",
    "                    proba = x_test[feat].apply(lambda x: 1 / (b - a) if a <= x <= b else 1).values.reshape(-1,1) # else 1=skip if 0\n",
    "                    prob_ *= proba\n",
    "                elif d == 'br': # discrete Bernoulli \n",
    "                    proba = stats.bernoulli(params[feat].p).pmf(x_test[feat].values).reshape(-1,1)\n",
    "                    prob_ *= proba\n",
    "#                     proba = np.log(stats.bernoulli(params[feat].p).pmf(x_test[feat].values)).reshape(-1,1) # log implementation\n",
    "#                     prob_ += proba   # <-- global prob_ = 0 not 1\n",
    "                elif d == 'c': # categorical/Multinoulli\n",
    "                    proba = x_test[feat].map(params[feat]).values.reshape(-1,1)\n",
    "                    prob_ *= proba\n",
    "                    \n",
    "            pred = prob_* self.prior_dict[clss] # P(C & X)\n",
    "#             pred = prob_+ np.log(self.prior_dict[clss]) # log P(C & X) - log implementation\n",
    "            \n",
    "            if type(clss) == str: # for string class label\n",
    "                pred_array[:, n : n + 1] = pred\n",
    "                n += 1\n",
    "            else:\n",
    "                pred_array[:, clss : clss + 1] = pred\n",
    "\n",
    "        self.pred_array = pred_array # P(C & X)\n",
    "        self.pred_proba = (pred_array / pred_array.sum(axis=1, keepdims=True)).round(3) # P(C | X): Class Probability\n",
    "    \n",
    "        return np.array([np.argmax(pred_array[_]) for _ in range(len(x_test))]) # P(C | X): Class Label"
   ]
  },
  {
   "cell_type": "markdown",
   "id": "754c5d53",
   "metadata": {},
   "source": [
    "**<a href=\"#toc\" style='color:#dc143c'>Table of contents</a>**"
   ]
  },
  {
   "cell_type": "markdown",
   "id": "1ea6b194",
   "metadata": {},
   "source": [
    "<a id='imp'></a>"
   ]
  },
  {
   "cell_type": "markdown",
   "id": "f47afbc0",
   "metadata": {},
   "source": [
    "## The Data - Bank Churn"
   ]
  },
  {
   "cell_type": "code",
   "execution_count": 5,
   "id": "20fb421a",
   "metadata": {
    "scrolled": false
   },
   "outputs": [
    {
     "data": {
      "text/html": [
       "\n",
       "<form action=\"javascript:code_toggle()\"><input type=\"submit\" id=\"toggleButton\" value=\"Show Code\"></form>\n"
      ],
      "text/plain": [
       "<IPython.core.display.HTML object>"
      ]
     },
     "metadata": {},
     "output_type": "display_data"
    },
    {
     "name": "stdout",
     "output_type": "stream",
     "text": [
      "Bank Churn DataFrame\n"
     ]
    },
    {
     "data": {
      "text/plain": [
       "0    0.7963\n",
       "1    0.2037\n",
       "Name: Exited, dtype: float64"
      ]
     },
     "metadata": {},
     "output_type": "display_data"
    },
    {
     "data": {
      "text/html": [
       "<div>\n",
       "<style scoped>\n",
       "    .dataframe tbody tr th:only-of-type {\n",
       "        vertical-align: middle;\n",
       "    }\n",
       "\n",
       "    .dataframe tbody tr th {\n",
       "        vertical-align: top;\n",
       "    }\n",
       "\n",
       "    .dataframe thead th {\n",
       "        text-align: right;\n",
       "    }\n",
       "</style>\n",
       "<table border=\"1\" class=\"dataframe\">\n",
       "  <thead>\n",
       "    <tr style=\"text-align: right;\">\n",
       "      <th></th>\n",
       "      <th>RowNumber</th>\n",
       "      <th>CustomerId</th>\n",
       "      <th>Surname</th>\n",
       "      <th>CreditScore</th>\n",
       "      <th>Geography</th>\n",
       "      <th>Gender</th>\n",
       "      <th>Age</th>\n",
       "      <th>Tenure</th>\n",
       "      <th>Balance</th>\n",
       "      <th>NumOfProducts</th>\n",
       "      <th>HasCrCard</th>\n",
       "      <th>IsActiveMember</th>\n",
       "      <th>EstimatedSalary</th>\n",
       "      <th>Exited</th>\n",
       "    </tr>\n",
       "  </thead>\n",
       "  <tbody>\n",
       "    <tr>\n",
       "      <th>0</th>\n",
       "      <td>1</td>\n",
       "      <td>15634602</td>\n",
       "      <td>Hargrave</td>\n",
       "      <td>619</td>\n",
       "      <td>France</td>\n",
       "      <td>Female</td>\n",
       "      <td>42</td>\n",
       "      <td>2</td>\n",
       "      <td>0.00</td>\n",
       "      <td>1</td>\n",
       "      <td>1</td>\n",
       "      <td>1</td>\n",
       "      <td>101348.88</td>\n",
       "      <td>1</td>\n",
       "    </tr>\n",
       "    <tr>\n",
       "      <th>1</th>\n",
       "      <td>2</td>\n",
       "      <td>15647311</td>\n",
       "      <td>Hill</td>\n",
       "      <td>608</td>\n",
       "      <td>Spain</td>\n",
       "      <td>Female</td>\n",
       "      <td>41</td>\n",
       "      <td>1</td>\n",
       "      <td>83807.86</td>\n",
       "      <td>1</td>\n",
       "      <td>0</td>\n",
       "      <td>1</td>\n",
       "      <td>112542.58</td>\n",
       "      <td>0</td>\n",
       "    </tr>\n",
       "    <tr>\n",
       "      <th>2</th>\n",
       "      <td>3</td>\n",
       "      <td>15619304</td>\n",
       "      <td>Onio</td>\n",
       "      <td>502</td>\n",
       "      <td>France</td>\n",
       "      <td>Female</td>\n",
       "      <td>42</td>\n",
       "      <td>8</td>\n",
       "      <td>159660.80</td>\n",
       "      <td>3</td>\n",
       "      <td>1</td>\n",
       "      <td>0</td>\n",
       "      <td>113931.57</td>\n",
       "      <td>1</td>\n",
       "    </tr>\n",
       "    <tr>\n",
       "      <th>3</th>\n",
       "      <td>4</td>\n",
       "      <td>15701354</td>\n",
       "      <td>Boni</td>\n",
       "      <td>699</td>\n",
       "      <td>France</td>\n",
       "      <td>Female</td>\n",
       "      <td>39</td>\n",
       "      <td>1</td>\n",
       "      <td>0.00</td>\n",
       "      <td>2</td>\n",
       "      <td>0</td>\n",
       "      <td>0</td>\n",
       "      <td>93826.63</td>\n",
       "      <td>0</td>\n",
       "    </tr>\n",
       "    <tr>\n",
       "      <th>4</th>\n",
       "      <td>5</td>\n",
       "      <td>15737888</td>\n",
       "      <td>Mitchell</td>\n",
       "      <td>850</td>\n",
       "      <td>Spain</td>\n",
       "      <td>Female</td>\n",
       "      <td>43</td>\n",
       "      <td>2</td>\n",
       "      <td>125510.82</td>\n",
       "      <td>1</td>\n",
       "      <td>1</td>\n",
       "      <td>1</td>\n",
       "      <td>79084.10</td>\n",
       "      <td>0</td>\n",
       "    </tr>\n",
       "  </tbody>\n",
       "</table>\n",
       "</div>"
      ],
      "text/plain": [
       "   RowNumber  CustomerId   Surname  CreditScore Geography  Gender  Age  \\\n",
       "0          1    15634602  Hargrave          619    France  Female   42   \n",
       "1          2    15647311      Hill          608     Spain  Female   41   \n",
       "2          3    15619304      Onio          502    France  Female   42   \n",
       "3          4    15701354      Boni          699    France  Female   39   \n",
       "4          5    15737888  Mitchell          850     Spain  Female   43   \n",
       "\n",
       "   Tenure    Balance  NumOfProducts  HasCrCard  IsActiveMember  \\\n",
       "0       2       0.00              1          1               1   \n",
       "1       1   83807.86              1          0               1   \n",
       "2       8  159660.80              3          1               0   \n",
       "3       1       0.00              2          0               0   \n",
       "4       2  125510.82              1          1               1   \n",
       "\n",
       "   EstimatedSalary  Exited  \n",
       "0        101348.88       1  \n",
       "1        112542.58       0  \n",
       "2        113931.57       1  \n",
       "3         93826.63       0  \n",
       "4         79084.10       0  "
      ]
     },
     "metadata": {},
     "output_type": "display_data"
    }
   ],
   "source": [
    "# Bank Churn DF\n",
    "\n",
    "hide_code() # hide code cell\n",
    "\n",
    "print('Bank Churn DataFrame')\n",
    "\n",
    "churn_df = pd.read_csv('Churn_Modelling.csv')\n",
    "\n",
    "display(churn_df.Exited.value_counts(normalize =True), churn_df.head())"
   ]
  },
  {
   "cell_type": "markdown",
   "id": "424f7637",
   "metadata": {},
   "source": [
    "## Feature Engineering"
   ]
  },
  {
   "cell_type": "code",
   "execution_count": 6,
   "id": "2e488951",
   "metadata": {
    "scrolled": false
   },
   "outputs": [
    {
     "data": {
      "text/html": [
       "\n",
       "<form action=\"javascript:code_toggle()\"><input type=\"submit\" id=\"toggleButton\" value=\"Show Code\"></form>\n"
      ],
      "text/plain": [
       "<IPython.core.display.HTML object>"
      ]
     },
     "metadata": {},
     "output_type": "display_data"
    },
    {
     "name": "stdout",
     "output_type": "stream",
     "text": [
      "Feature Engineering:\n",
      "  -Feature extraction - 'Loyalty'\n",
      "  -Feature Transformation - Dummy encode 'Geography'\n"
     ]
    },
    {
     "data": {
      "text/html": [
       "<div>\n",
       "<style scoped>\n",
       "    .dataframe tbody tr th:only-of-type {\n",
       "        vertical-align: middle;\n",
       "    }\n",
       "\n",
       "    .dataframe tbody tr th {\n",
       "        vertical-align: top;\n",
       "    }\n",
       "\n",
       "    .dataframe thead th {\n",
       "        text-align: right;\n",
       "    }\n",
       "</style>\n",
       "<table border=\"1\" class=\"dataframe\">\n",
       "  <thead>\n",
       "    <tr style=\"text-align: right;\">\n",
       "      <th></th>\n",
       "      <th>Surname</th>\n",
       "      <th>CreditScore</th>\n",
       "      <th>Geography</th>\n",
       "      <th>Gender</th>\n",
       "      <th>Age</th>\n",
       "      <th>Tenure</th>\n",
       "      <th>Balance</th>\n",
       "      <th>NumOfProducts</th>\n",
       "      <th>HasCrCard</th>\n",
       "      <th>IsActiveMember</th>\n",
       "      <th>EstimatedSalary</th>\n",
       "      <th>Exited</th>\n",
       "      <th>Loyalty</th>\n",
       "      <th>Germany</th>\n",
       "      <th>Spain</th>\n",
       "    </tr>\n",
       "  </thead>\n",
       "  <tbody>\n",
       "    <tr>\n",
       "      <th>0</th>\n",
       "      <td>Hargrave</td>\n",
       "      <td>619</td>\n",
       "      <td>France</td>\n",
       "      <td>Female</td>\n",
       "      <td>42</td>\n",
       "      <td>2</td>\n",
       "      <td>0.00</td>\n",
       "      <td>1</td>\n",
       "      <td>1</td>\n",
       "      <td>1</td>\n",
       "      <td>101348.88</td>\n",
       "      <td>1</td>\n",
       "      <td>0.047619</td>\n",
       "      <td>0</td>\n",
       "      <td>0</td>\n",
       "    </tr>\n",
       "    <tr>\n",
       "      <th>1</th>\n",
       "      <td>Hill</td>\n",
       "      <td>608</td>\n",
       "      <td>Spain</td>\n",
       "      <td>Female</td>\n",
       "      <td>41</td>\n",
       "      <td>1</td>\n",
       "      <td>83807.86</td>\n",
       "      <td>1</td>\n",
       "      <td>0</td>\n",
       "      <td>1</td>\n",
       "      <td>112542.58</td>\n",
       "      <td>0</td>\n",
       "      <td>0.024390</td>\n",
       "      <td>0</td>\n",
       "      <td>1</td>\n",
       "    </tr>\n",
       "    <tr>\n",
       "      <th>2</th>\n",
       "      <td>Onio</td>\n",
       "      <td>502</td>\n",
       "      <td>France</td>\n",
       "      <td>Female</td>\n",
       "      <td>42</td>\n",
       "      <td>8</td>\n",
       "      <td>159660.80</td>\n",
       "      <td>3</td>\n",
       "      <td>1</td>\n",
       "      <td>0</td>\n",
       "      <td>113931.57</td>\n",
       "      <td>1</td>\n",
       "      <td>0.190476</td>\n",
       "      <td>0</td>\n",
       "      <td>0</td>\n",
       "    </tr>\n",
       "    <tr>\n",
       "      <th>3</th>\n",
       "      <td>Boni</td>\n",
       "      <td>699</td>\n",
       "      <td>France</td>\n",
       "      <td>Female</td>\n",
       "      <td>39</td>\n",
       "      <td>1</td>\n",
       "      <td>0.00</td>\n",
       "      <td>2</td>\n",
       "      <td>0</td>\n",
       "      <td>0</td>\n",
       "      <td>93826.63</td>\n",
       "      <td>0</td>\n",
       "      <td>0.025641</td>\n",
       "      <td>0</td>\n",
       "      <td>0</td>\n",
       "    </tr>\n",
       "    <tr>\n",
       "      <th>4</th>\n",
       "      <td>Mitchell</td>\n",
       "      <td>850</td>\n",
       "      <td>Spain</td>\n",
       "      <td>Female</td>\n",
       "      <td>43</td>\n",
       "      <td>2</td>\n",
       "      <td>125510.82</td>\n",
       "      <td>1</td>\n",
       "      <td>1</td>\n",
       "      <td>1</td>\n",
       "      <td>79084.10</td>\n",
       "      <td>0</td>\n",
       "      <td>0.046512</td>\n",
       "      <td>0</td>\n",
       "      <td>1</td>\n",
       "    </tr>\n",
       "    <tr>\n",
       "      <th>...</th>\n",
       "      <td>...</td>\n",
       "      <td>...</td>\n",
       "      <td>...</td>\n",
       "      <td>...</td>\n",
       "      <td>...</td>\n",
       "      <td>...</td>\n",
       "      <td>...</td>\n",
       "      <td>...</td>\n",
       "      <td>...</td>\n",
       "      <td>...</td>\n",
       "      <td>...</td>\n",
       "      <td>...</td>\n",
       "      <td>...</td>\n",
       "      <td>...</td>\n",
       "      <td>...</td>\n",
       "    </tr>\n",
       "    <tr>\n",
       "      <th>9995</th>\n",
       "      <td>Obijiaku</td>\n",
       "      <td>771</td>\n",
       "      <td>France</td>\n",
       "      <td>Male</td>\n",
       "      <td>39</td>\n",
       "      <td>5</td>\n",
       "      <td>0.00</td>\n",
       "      <td>2</td>\n",
       "      <td>1</td>\n",
       "      <td>0</td>\n",
       "      <td>96270.64</td>\n",
       "      <td>0</td>\n",
       "      <td>0.128205</td>\n",
       "      <td>0</td>\n",
       "      <td>0</td>\n",
       "    </tr>\n",
       "    <tr>\n",
       "      <th>9996</th>\n",
       "      <td>Johnstone</td>\n",
       "      <td>516</td>\n",
       "      <td>France</td>\n",
       "      <td>Male</td>\n",
       "      <td>35</td>\n",
       "      <td>10</td>\n",
       "      <td>57369.61</td>\n",
       "      <td>1</td>\n",
       "      <td>1</td>\n",
       "      <td>1</td>\n",
       "      <td>101699.77</td>\n",
       "      <td>0</td>\n",
       "      <td>0.285714</td>\n",
       "      <td>0</td>\n",
       "      <td>0</td>\n",
       "    </tr>\n",
       "    <tr>\n",
       "      <th>9997</th>\n",
       "      <td>Liu</td>\n",
       "      <td>709</td>\n",
       "      <td>France</td>\n",
       "      <td>Female</td>\n",
       "      <td>36</td>\n",
       "      <td>7</td>\n",
       "      <td>0.00</td>\n",
       "      <td>1</td>\n",
       "      <td>0</td>\n",
       "      <td>1</td>\n",
       "      <td>42085.58</td>\n",
       "      <td>1</td>\n",
       "      <td>0.194444</td>\n",
       "      <td>0</td>\n",
       "      <td>0</td>\n",
       "    </tr>\n",
       "    <tr>\n",
       "      <th>9998</th>\n",
       "      <td>Sabbatini</td>\n",
       "      <td>772</td>\n",
       "      <td>Germany</td>\n",
       "      <td>Male</td>\n",
       "      <td>42</td>\n",
       "      <td>3</td>\n",
       "      <td>75075.31</td>\n",
       "      <td>2</td>\n",
       "      <td>1</td>\n",
       "      <td>0</td>\n",
       "      <td>92888.52</td>\n",
       "      <td>1</td>\n",
       "      <td>0.071429</td>\n",
       "      <td>1</td>\n",
       "      <td>0</td>\n",
       "    </tr>\n",
       "    <tr>\n",
       "      <th>9999</th>\n",
       "      <td>Walker</td>\n",
       "      <td>792</td>\n",
       "      <td>France</td>\n",
       "      <td>Female</td>\n",
       "      <td>28</td>\n",
       "      <td>4</td>\n",
       "      <td>130142.79</td>\n",
       "      <td>1</td>\n",
       "      <td>1</td>\n",
       "      <td>0</td>\n",
       "      <td>38190.78</td>\n",
       "      <td>0</td>\n",
       "      <td>0.142857</td>\n",
       "      <td>0</td>\n",
       "      <td>0</td>\n",
       "    </tr>\n",
       "  </tbody>\n",
       "</table>\n",
       "<p>10000 rows × 15 columns</p>\n",
       "</div>"
      ],
      "text/plain": [
       "        Surname  CreditScore Geography  Gender  Age  Tenure    Balance  \\\n",
       "0      Hargrave          619    France  Female   42       2       0.00   \n",
       "1          Hill          608     Spain  Female   41       1   83807.86   \n",
       "2          Onio          502    France  Female   42       8  159660.80   \n",
       "3          Boni          699    France  Female   39       1       0.00   \n",
       "4      Mitchell          850     Spain  Female   43       2  125510.82   \n",
       "...         ...          ...       ...     ...  ...     ...        ...   \n",
       "9995   Obijiaku          771    France    Male   39       5       0.00   \n",
       "9996  Johnstone          516    France    Male   35      10   57369.61   \n",
       "9997        Liu          709    France  Female   36       7       0.00   \n",
       "9998  Sabbatini          772   Germany    Male   42       3   75075.31   \n",
       "9999     Walker          792    France  Female   28       4  130142.79   \n",
       "\n",
       "      NumOfProducts  HasCrCard  IsActiveMember  EstimatedSalary  Exited  \\\n",
       "0                 1          1               1        101348.88       1   \n",
       "1                 1          0               1        112542.58       0   \n",
       "2                 3          1               0        113931.57       1   \n",
       "3                 2          0               0         93826.63       0   \n",
       "4                 1          1               1         79084.10       0   \n",
       "...             ...        ...             ...              ...     ...   \n",
       "9995              2          1               0         96270.64       0   \n",
       "9996              1          1               1        101699.77       0   \n",
       "9997              1          0               1         42085.58       1   \n",
       "9998              2          1               0         92888.52       1   \n",
       "9999              1          1               0         38190.78       0   \n",
       "\n",
       "       Loyalty  Germany  Spain  \n",
       "0     0.047619        0      0  \n",
       "1     0.024390        0      1  \n",
       "2     0.190476        0      0  \n",
       "3     0.025641        0      0  \n",
       "4     0.046512        0      1  \n",
       "...        ...      ...    ...  \n",
       "9995  0.128205        0      0  \n",
       "9996  0.285714        0      0  \n",
       "9997  0.194444        0      0  \n",
       "9998  0.071429        1      0  \n",
       "9999  0.142857        0      0  \n",
       "\n",
       "[10000 rows x 15 columns]"
      ]
     },
     "execution_count": 6,
     "metadata": {},
     "output_type": "execute_result"
    }
   ],
   "source": [
    "# Feature Engineering - Churn DF\n",
    "\n",
    "hide_code() # hide code cell\n",
    "\n",
    "print('Feature Engineering:', '  -Feature extraction - \\'Loyalty\\'' , \n",
    "      '  -Feature Transformation - Dummy encode \\'Geography\\'', sep = '\\n')\n",
    "\n",
    "# Feature extraction \n",
    "churn_df['Loyalty'] = churn_df.Tenure / churn_df.Age\n",
    "\n",
    "# Feature Transformation - Dummy encode\n",
    "churn_df = pd.concat([churn_df, pd.get_dummies(churn_df.Geography, drop_first= True)], axis = 1)\n",
    "\n",
    "churn_df.iloc[:,2:]"
   ]
  },
  {
   "cell_type": "markdown",
   "id": "e9816ebd",
   "metadata": {},
   "source": [
    "## Feature Correlation"
   ]
  },
  {
   "cell_type": "code",
   "execution_count": 7,
   "id": "a765b045",
   "metadata": {
    "scrolled": false
   },
   "outputs": [
    {
     "data": {
      "text/html": [
       "\n",
       "<form action=\"javascript:code_toggle()\"><input type=\"submit\" id=\"toggleButton\" value=\"Show Code\"></form>\n"
      ],
      "text/plain": [
       "<IPython.core.display.HTML object>"
      ]
     },
     "metadata": {},
     "output_type": "display_data"
    },
    {
     "data": {
      "image/png": "[encoded data removed]",
      "text/plain": [
       "<Figure size 1296x648 with 2 Axes>"
      ]
     },
     "metadata": {
      "needs_background": "dark"
     },
     "output_type": "display_data"
    }
   ],
   "source": [
    "# Correlation - Churn DF\n",
    "\n",
    "hide_code() # hide code cell\n",
    "\n",
    "fig = plt.figure(figsize = (18,9))\n",
    "corr_matrix = churn_df.corr()\n",
    "sns.heatmap(corr_matrix, annot = True, fmt = '.2f', cmap = 'Greys')\n",
    "plt.title(\"Correlation HeatMap - Churn DF\")\n",
    "plt.xticks(rotation = 40);"
   ]
  },
  {
   "cell_type": "markdown",
   "id": "09306c3d",
   "metadata": {},
   "source": [
    "Naive Bayes models operate best when there's conditional independence between the features. We engineered `Loyalty` by dividing `Tenure` by `Age`. Thus, it's no longer conditionally independent. Therefore, we'll drop `Tenure` and `Age` to help adhere to the assumptions of our model.\n",
    "\n",
    "If two random variables are correlated, they can't be statistically independent. But, if the correlation is 0, those variables can still be dependent. So, presence of correlation implies dependence; but the presence of dependence doesn't imply correlation."
   ]
  },
  {
   "cell_type": "markdown",
   "id": "fb5501c4",
   "metadata": {},
   "source": [
    "## More Feature Engineering"
   ]
  },
  {
   "cell_type": "code",
   "execution_count": 8,
   "id": "0d4b464b",
   "metadata": {
    "scrolled": false
   },
   "outputs": [
    {
     "data": {
      "text/html": [
       "\n",
       "<form action=\"javascript:code_toggle()\"><input type=\"submit\" id=\"toggleButton\" value=\"Show Code\"></form>\n"
      ],
      "text/plain": [
       "<IPython.core.display.HTML object>"
      ]
     },
     "metadata": {},
     "output_type": "display_data"
    },
    {
     "name": "stdout",
     "output_type": "stream",
     "text": [
      "Feature Engineering:\n",
      "  -Feature selection - Drop unnecessary and redundant features\n"
     ]
    },
    {
     "data": {
      "text/html": [
       "<div>\n",
       "<style scoped>\n",
       "    .dataframe tbody tr th:only-of-type {\n",
       "        vertical-align: middle;\n",
       "    }\n",
       "\n",
       "    .dataframe tbody tr th {\n",
       "        vertical-align: top;\n",
       "    }\n",
       "\n",
       "    .dataframe thead th {\n",
       "        text-align: right;\n",
       "    }\n",
       "</style>\n",
       "<table border=\"1\" class=\"dataframe\">\n",
       "  <thead>\n",
       "    <tr style=\"text-align: right;\">\n",
       "      <th></th>\n",
       "      <th>CreditScore</th>\n",
       "      <th>Balance</th>\n",
       "      <th>NumOfProducts</th>\n",
       "      <th>HasCrCard</th>\n",
       "      <th>IsActiveMember</th>\n",
       "      <th>EstimatedSalary</th>\n",
       "      <th>Exited</th>\n",
       "      <th>Loyalty</th>\n",
       "      <th>Germany</th>\n",
       "      <th>Spain</th>\n",
       "    </tr>\n",
       "  </thead>\n",
       "  <tbody>\n",
       "    <tr>\n",
       "      <th>0</th>\n",
       "      <td>619</td>\n",
       "      <td>0.00</td>\n",
       "      <td>1</td>\n",
       "      <td>1</td>\n",
       "      <td>1</td>\n",
       "      <td>101348.88</td>\n",
       "      <td>1</td>\n",
       "      <td>0.047619</td>\n",
       "      <td>0</td>\n",
       "      <td>0</td>\n",
       "    </tr>\n",
       "    <tr>\n",
       "      <th>1</th>\n",
       "      <td>608</td>\n",
       "      <td>83807.86</td>\n",
       "      <td>1</td>\n",
       "      <td>0</td>\n",
       "      <td>1</td>\n",
       "      <td>112542.58</td>\n",
       "      <td>0</td>\n",
       "      <td>0.024390</td>\n",
       "      <td>0</td>\n",
       "      <td>1</td>\n",
       "    </tr>\n",
       "    <tr>\n",
       "      <th>2</th>\n",
       "      <td>502</td>\n",
       "      <td>159660.80</td>\n",
       "      <td>3</td>\n",
       "      <td>1</td>\n",
       "      <td>0</td>\n",
       "      <td>113931.57</td>\n",
       "      <td>1</td>\n",
       "      <td>0.190476</td>\n",
       "      <td>0</td>\n",
       "      <td>0</td>\n",
       "    </tr>\n",
       "    <tr>\n",
       "      <th>3</th>\n",
       "      <td>699</td>\n",
       "      <td>0.00</td>\n",
       "      <td>2</td>\n",
       "      <td>0</td>\n",
       "      <td>0</td>\n",
       "      <td>93826.63</td>\n",
       "      <td>0</td>\n",
       "      <td>0.025641</td>\n",
       "      <td>0</td>\n",
       "      <td>0</td>\n",
       "    </tr>\n",
       "    <tr>\n",
       "      <th>4</th>\n",
       "      <td>850</td>\n",
       "      <td>125510.82</td>\n",
       "      <td>1</td>\n",
       "      <td>1</td>\n",
       "      <td>1</td>\n",
       "      <td>79084.10</td>\n",
       "      <td>0</td>\n",
       "      <td>0.046512</td>\n",
       "      <td>0</td>\n",
       "      <td>1</td>\n",
       "    </tr>\n",
       "  </tbody>\n",
       "</table>\n",
       "</div>"
      ],
      "text/plain": [
       "   CreditScore    Balance  NumOfProducts  HasCrCard  IsActiveMember  \\\n",
       "0          619       0.00              1          1               1   \n",
       "1          608   83807.86              1          0               1   \n",
       "2          502  159660.80              3          1               0   \n",
       "3          699       0.00              2          0               0   \n",
       "4          850  125510.82              1          1               1   \n",
       "\n",
       "   EstimatedSalary  Exited   Loyalty  Germany  Spain  \n",
       "0        101348.88       1  0.047619        0      0  \n",
       "1        112542.58       0  0.024390        0      1  \n",
       "2        113931.57       1  0.190476        0      0  \n",
       "3         93826.63       0  0.025641        0      0  \n",
       "4         79084.10       0  0.046512        0      1  "
      ]
     },
     "execution_count": 8,
     "metadata": {},
     "output_type": "execute_result"
    }
   ],
   "source": [
    "# Feature selection - Drop unnecessary and redundant features\n",
    "\n",
    "hide_code() # hide code cell\n",
    "\n",
    "print('Feature Engineering:', '  -Feature selection - Drop unnecessary and redundant features', sep = '\\n')\n",
    "\n",
    "churn_df.drop(['RowNumber', 'CustomerId', 'Surname', 'Gender', 'Tenure', 'Age', 'Geography'], axis = 1, inplace = True)\n",
    "\n",
    "churn_df.head()"
   ]
  },
  {
   "cell_type": "markdown",
   "id": "bb3c88c4",
   "metadata": {},
   "source": [
    "**<a href=\"#toc\" style='color:#dc143c'>Table of contents</a>**"
   ]
  },
  {
   "cell_type": "markdown",
   "id": "01aefbc6",
   "metadata": {},
   "source": [
    "<a id='eval'></a>"
   ]
  },
  {
   "cell_type": "markdown",
   "id": "e98384d0",
   "metadata": {},
   "source": [
    "## Out-of-sample evaluation"
   ]
  },
  {
   "cell_type": "code",
   "execution_count": 9,
   "id": "82922565",
   "metadata": {
    "scrolled": true
   },
   "outputs": [
    {
     "data": {
      "text/html": [
       "\n",
       "<form action=\"javascript:code_toggle()\"><input type=\"submit\" id=\"toggleButton\" value=\"Show Code\"></form>\n"
      ],
      "text/plain": [
       "<IPython.core.display.HTML object>"
      ]
     },
     "metadata": {},
     "output_type": "display_data"
    },
    {
     "name": "stdout",
     "output_type": "stream",
     "text": [
      "Single train and test sets:\n",
      "  -Training data: 7,500 Samples and 10 Features\n",
      "  -Testing data: 2,500 Samples and 10 Features\n"
     ]
    }
   ],
   "source": [
    "# split data\n",
    "\n",
    "hide_code() # hide code cell\n",
    "\n",
    "X_train, X_test, = train_test_split(churn_df, stratify = churn_df.Exited, test_size = 0.25, random_state = 42)\n",
    "\n",
    "print('Single train and test sets:', \n",
    "      f'  -Training data: {X_train.shape[0]:,} Samples and {X_train.shape[1]} Features',\n",
    "      f'  -Testing data: {X_test.shape[0]:,} Samples and {X_test.shape[1]:,} Features', sep = '\\n')"
   ]
  },
  {
   "cell_type": "markdown",
   "id": "2f7265be",
   "metadata": {},
   "source": [
    "## Gaussian NB - Mixed"
   ]
  },
  {
   "cell_type": "code",
   "execution_count": 10,
   "id": "f3295e5f",
   "metadata": {
    "scrolled": false
   },
   "outputs": [
    {
     "data": {
      "text/html": [
       "\n",
       "<form action=\"javascript:code_toggle()\"><input type=\"submit\" id=\"toggleButton\" value=\"Show Code\"></form>\n"
      ],
      "text/plain": [
       "<IPython.core.display.HTML object>"
      ]
     },
     "metadata": {},
     "output_type": "display_data"
    },
    {
     "name": "stdout",
     "output_type": "stream",
     "text": [
      "Mixed NB - Assuming Gaussian Features - Single Split\n",
      "-------------------------------------------------------\n"
     ]
    },
    {
     "data": {
      "text/plain": [
       "'Estimated Priors'"
      ]
     },
     "metadata": {},
     "output_type": "display_data"
    },
    {
     "data": {
      "text/plain": [
       "{0: 0.7962666666666667, 1: 0.20373333333333332}"
      ]
     },
     "metadata": {},
     "output_type": "display_data"
    },
    {
     "data": {
      "text/plain": [
       "'Estimated Params'"
      ]
     },
     "metadata": {},
     "output_type": "display_data"
    },
    {
     "data": {
      "text/plain": [
       "{0: {'CreditScore': params_gaussian(mu=652.160, sigma=95.808),\n",
       "  'Balance': params_gaussian(mu=72586.959, sigma=62875.610),\n",
       "  'NumOfProducts': params_gaussian(mu=1.546, sigma=0.510),\n",
       "  'HasCrCard': params_gaussian(mu=0.710, sigma=0.454),\n",
       "  'IsActiveMember': params_gaussian(mu=0.555, sigma=0.497),\n",
       "  'EstimatedSalary': params_gaussian(mu=98868.430, sigma=57085.021),\n",
       "  'Loyalty': params_gaussian(mu=0.143, sigma=0.091),\n",
       "  'Germany': params_gaussian(mu=0.210, sigma=0.408),\n",
       "  'Spain': params_gaussian(mu=0.264, sigma=0.441)},\n",
       " 1: {'CreditScore': params_gaussian(mu=644.052, sigma=99.523),\n",
       "  'Balance': params_gaussian(mu=90950.368, sigma=58148.354),\n",
       "  'NumOfProducts': params_gaussian(mu=1.477, sigma=0.801),\n",
       "  'HasCrCard': params_gaussian(mu=0.696, sigma=0.460),\n",
       "  'IsActiveMember': params_gaussian(mu=0.366, sigma=0.482),\n",
       "  'EstimatedSalary': params_gaussian(mu=102167.067, sigma=58015.905),\n",
       "  'Loyalty': params_gaussian(mu=0.119, sigma=0.077),\n",
       "  'Germany': params_gaussian(mu=0.402, sigma=0.490),\n",
       "  'Spain': params_gaussian(mu=0.205, sigma=0.404)}}"
      ]
     },
     "metadata": {},
     "output_type": "display_data"
    },
    {
     "name": "stdout",
     "output_type": "stream",
     "text": [
      "Classification Report\n",
      "--------------------\n",
      "              precision    recall  f1-score   support\n",
      "\n",
      "           0       0.84      0.94      0.88      1991\n",
      "           1       0.54      0.30      0.39       509\n",
      "\n",
      "    accuracy                           0.81      2500\n",
      "   macro avg       0.69      0.62      0.64      2500\n",
      "weighted avg       0.78      0.81      0.78      2500\n",
      "\n",
      "----------------------------------------\n"
     ]
    },
    {
     "data": {
      "image/png": "[encoded data removed]",
      "text/plain": [
       "<Figure size 720x360 with 1 Axes>"
      ]
     },
     "metadata": {
      "needs_background": "dark"
     },
     "output_type": "display_data"
    }
   ],
   "source": [
    "# Mixed NB - Churn DF - Gaussian\n",
    "\n",
    "hide_code() # hide code cell\n",
    "\n",
    "dist = dict(zip(X_train.drop('Exited', axis= 1), ['n' for _ in range(len(X_train.drop('Exited', axis= 1)))]))\n",
    "\n",
    "m = mixed_nb().fit(X_train, 'Exited', dist)\n",
    "\n",
    "y_pred = m.predict(X_test.drop('Exited', axis= 1))\n",
    "\n",
    "y_test = X_test.Exited\n",
    "\n",
    "print('Mixed NB - Assuming Gaussian Features - Single Split', '-' * 55, sep = '\\n')\n",
    "\n",
    "display('Estimated Priors', m.prior_dict, 'Estimated Params', m.params_dict)\n",
    "\n",
    "print('Classification Report', '-' * 20, classification_report(y_test, y_pred), '-' * 40, sep = '\\n')\n",
    "\n",
    "fig = plt.figure(figsize = (10,5))\n",
    "cm = confusion_matrix(y_test, y_pred)\n",
    "sns.heatmap(cm, square=True, annot=True, fmt='g', cmap = 'Pastel1_r', cbar=False)\n",
    "plt.xlabel('predicted value')\n",
    "plt.ylabel('true value')\n",
    "plt.title('Confusion Matrix');"
   ]
  },
  {
   "cell_type": "markdown",
   "id": "fde53846",
   "metadata": {},
   "source": [
    "## Making sense of numbers"
   ]
  },
  {
   "cell_type": "markdown",
   "id": "de2f6b62",
   "metadata": {},
   "source": [
    "#### Confusion Matrix\n",
    "\n",
    "\n",
    "| Actual/Pred |        No         |        Yes      |\n",
    "|-------------|-------------------|-----------------|\n",
    "|  No         | 'True Negative'   | 'False Positive'|\n",
    "|  Yes        | 'False Negative'  | 'True Positive' |\n",
    "\n",
    "\n",
    "When comparing actual vs predicted results a single observation falls under one of the following 4 categories:\n",
    "\n",
    "- True positive (TP): actual observation belongs to the positive class (1) and is correctly predicted as being positive (1).\n",
    "- False positive (FP): actual observation belongs to the negative class (0) and is wrongly predicted as being positive (1).\n",
    "- True negative (TN): actual observation belongs to the negative class (0) and is correctly predicted as being negative (0).\n",
    "- False negative (FN): actual observation belongs to the positive class (1) and is wrongly predicted as being negative (0).\n",
    "\n",
    "#### Accuracy: (tp + tn) / total samples = (154 + 1,862) / 2,500 = 81%\n",
    "\n",
    "- Accuracy measures portion of correct predictions, existence of class imbalance reduce the credibility of this metrics because of large number of negative class.\n",
    "\n",
    "#### Precision: tp / (tp + fp) = 154 / (154 + 129) = 54%\n",
    "\n",
    "- 'how many positive predictions (pred = 1) are correct?'. It is a measure of how likely our predictions to be correct\n",
    "\n",
    "#### Recall: tp / (tp + fn) = 154 / (154 + 355) = 30%\n",
    "- 'Of all positive observations (churn = 1) how many did we predict correctly?'. It is a measure of the completeness of our predictions."
   ]
  },
  {
   "cell_type": "markdown",
   "id": "b582d91d",
   "metadata": {},
   "source": [
    "## Gaussian NB - Mixed - Cross Validation"
   ]
  },
  {
   "cell_type": "code",
   "execution_count": 11,
   "id": "8a246fa1",
   "metadata": {
    "scrolled": false
   },
   "outputs": [
    {
     "data": {
      "text/html": [
       "\n",
       "<form action=\"javascript:code_toggle()\"><input type=\"submit\" id=\"toggleButton\" value=\"Show Code\"></form>\n"
      ],
      "text/plain": [
       "<IPython.core.display.HTML object>"
      ]
     },
     "metadata": {},
     "output_type": "display_data"
    },
    {
     "name": "stdout",
     "output_type": "stream",
     "text": [
      "Mixed NB - Assuming Gaussian Features - Stratified Kfold Cross Validation\n",
      "----------------------------------------------------------------------\n",
      "Fold 1: Training - Recall: 0.278    Testing - Recall: 0.287\n",
      "-----\n",
      "Confusion Matrix\n",
      "---------------\n",
      "[[1504   88]\n",
      " [ 291  117]]\n",
      "------------------------------------------------------------\n",
      "Fold 2: Training - Recall: 0.291    Testing - Recall: 0.257\n",
      "-----\n",
      "Confusion Matrix\n",
      "---------------\n",
      "[[1502   90]\n",
      " [ 303  105]]\n",
      "------------------------------------------------------------\n",
      "Fold 3: Training - Recall: 0.286    Testing - Recall: 0.297\n",
      "-----\n",
      "Confusion Matrix\n",
      "---------------\n",
      "[[1501   92]\n",
      " [ 286  121]]\n",
      "------------------------------------------------------------\n",
      "Fold 4: Training - Recall: 0.278    Testing - Recall:   0.3\n",
      "-----\n",
      "Confusion Matrix\n",
      "---------------\n",
      "[[1501   92]\n",
      " [ 285  122]]\n",
      "------------------------------------------------------------\n",
      "Fold 5: Training - Recall: 0.285    Testing - Recall: 0.278\n",
      "-----\n",
      "Confusion Matrix\n",
      "---------------\n",
      "[[1496   97]\n",
      " [ 294  113]]\n",
      "------------------------------------------------------------\n",
      "Avg Recall: 0.284\n"
     ]
    }
   ],
   "source": [
    "# Kfold Cross Validation - Mixed NB - Churn DF - Gaussian\n",
    "\n",
    "hide_code() # hide code cell\n",
    "\n",
    "print('Mixed NB - Assuming Gaussian Features - Stratified Kfold Cross Validation', '-' * 70, sep = '\\n')\n",
    "\n",
    "m_kf = train_eval(mixed_nb(alpha = 1), churn_df, 'Exited', dist, kfcv = True)"
   ]
  },
  {
   "cell_type": "markdown",
   "id": "9e2798a0",
   "metadata": {},
   "source": [
    "## Gaussian NB - Sklearn"
   ]
  },
  {
   "cell_type": "code",
   "execution_count": 12,
   "id": "ba48670b",
   "metadata": {
    "scrolled": false
   },
   "outputs": [
    {
     "data": {
      "text/html": [
       "\n",
       "<form action=\"javascript:code_toggle()\"><input type=\"submit\" id=\"toggleButton\" value=\"Show Code\"></form>\n"
      ],
      "text/plain": [
       "<IPython.core.display.HTML object>"
      ]
     },
     "metadata": {},
     "output_type": "display_data"
    },
    {
     "name": "stdout",
     "output_type": "stream",
     "text": [
      "Classification Report\n",
      "--------------------\n",
      "              precision    recall  f1-score   support\n",
      "\n",
      "           0       0.80      1.00      0.89      1991\n",
      "           1       0.00      0.00      0.00       509\n",
      "\n",
      "    accuracy                           0.80      2500\n",
      "   macro avg       0.40      0.50      0.44      2500\n",
      "weighted avg       0.63      0.80      0.71      2500\n",
      "\n",
      "----------------------------------------\n",
      "Confusion Matrix\n",
      "---------------\n",
      "[[1991    0]\n",
      " [ 509    0]]\n"
     ]
    }
   ],
   "source": [
    "# Gaussian NB - sklearn - Churn DF\n",
    "\n",
    "hide_code() # hide code cell\n",
    "\n",
    "gnb = GaussianNB()\n",
    "gnb.fit(X_train.drop('Exited', axis= 1), X_train.Exited)\n",
    "\n",
    "# Get the predictions on test data\n",
    "y_pred = gnb.predict(X_test.drop('Exited', axis= 1))\n",
    "\n",
    "print('Classification Report', '-' * 20, \n",
    "      classification_report(y_test, y_pred, zero_division = 0), '-' * 40, 'Confusion Matrix', '-' * 15,\n",
    "      confusion_matrix(y_test, y_pred), sep = '\\n')"
   ]
  },
  {
   "cell_type": "markdown",
   "id": "16e71f09",
   "metadata": {},
   "source": [
    "What's happening? We are working blindly without studying the data, let's do some analysis."
   ]
  },
  {
   "cell_type": "markdown",
   "id": "89fe110b",
   "metadata": {},
   "source": [
    "## Summary statistics - Churn DF - Training Data"
   ]
  },
  {
   "cell_type": "code",
   "execution_count": 13,
   "id": "35989b43",
   "metadata": {},
   "outputs": [
    {
     "data": {
      "text/html": [
       "\n",
       "<form action=\"javascript:code_toggle()\"><input type=\"submit\" id=\"toggleButton\" value=\"Show Code\"></form>\n"
      ],
      "text/plain": [
       "<IPython.core.display.HTML object>"
      ]
     },
     "metadata": {},
     "output_type": "display_data"
    },
    {
     "data": {
      "text/html": [
       "<div>\n",
       "<style scoped>\n",
       "    .dataframe tbody tr th:only-of-type {\n",
       "        vertical-align: middle;\n",
       "    }\n",
       "\n",
       "    .dataframe tbody tr th {\n",
       "        vertical-align: top;\n",
       "    }\n",
       "\n",
       "    .dataframe thead th {\n",
       "        text-align: right;\n",
       "    }\n",
       "</style>\n",
       "<table border=\"1\" class=\"dataframe\">\n",
       "  <thead>\n",
       "    <tr style=\"text-align: right;\">\n",
       "      <th></th>\n",
       "      <th>count</th>\n",
       "      <th>mean</th>\n",
       "      <th>std</th>\n",
       "      <th>min</th>\n",
       "      <th>25%</th>\n",
       "      <th>50%</th>\n",
       "      <th>75%</th>\n",
       "      <th>max</th>\n",
       "    </tr>\n",
       "  </thead>\n",
       "  <tbody>\n",
       "    <tr>\n",
       "      <th>CreditScore</th>\n",
       "      <td>7500.0</td>\n",
       "      <td>650.51</td>\n",
       "      <td>96.64</td>\n",
       "      <td>350.00</td>\n",
       "      <td>584.00</td>\n",
       "      <td>652.00</td>\n",
       "      <td>717.00</td>\n",
       "      <td>850.00</td>\n",
       "    </tr>\n",
       "    <tr>\n",
       "      <th>Balance</th>\n",
       "      <td>7500.0</td>\n",
       "      <td>76328.20</td>\n",
       "      <td>62385.96</td>\n",
       "      <td>0.00</td>\n",
       "      <td>0.00</td>\n",
       "      <td>96943.32</td>\n",
       "      <td>127785.45</td>\n",
       "      <td>222267.63</td>\n",
       "    </tr>\n",
       "    <tr>\n",
       "      <th>NumOfProducts</th>\n",
       "      <td>7500.0</td>\n",
       "      <td>1.53</td>\n",
       "      <td>0.58</td>\n",
       "      <td>1.00</td>\n",
       "      <td>1.00</td>\n",
       "      <td>1.00</td>\n",
       "      <td>2.00</td>\n",
       "      <td>4.00</td>\n",
       "    </tr>\n",
       "    <tr>\n",
       "      <th>HasCrCard</th>\n",
       "      <td>7500.0</td>\n",
       "      <td>0.71</td>\n",
       "      <td>0.46</td>\n",
       "      <td>0.00</td>\n",
       "      <td>0.00</td>\n",
       "      <td>1.00</td>\n",
       "      <td>1.00</td>\n",
       "      <td>1.00</td>\n",
       "    </tr>\n",
       "    <tr>\n",
       "      <th>IsActiveMember</th>\n",
       "      <td>7500.0</td>\n",
       "      <td>0.52</td>\n",
       "      <td>0.50</td>\n",
       "      <td>0.00</td>\n",
       "      <td>0.00</td>\n",
       "      <td>1.00</td>\n",
       "      <td>1.00</td>\n",
       "      <td>1.00</td>\n",
       "    </tr>\n",
       "    <tr>\n",
       "      <th>EstimatedSalary</th>\n",
       "      <td>7500.0</td>\n",
       "      <td>99540.47</td>\n",
       "      <td>57295.13</td>\n",
       "      <td>11.58</td>\n",
       "      <td>50417.95</td>\n",
       "      <td>98940.68</td>\n",
       "      <td>148428.57</td>\n",
       "      <td>199992.48</td>\n",
       "    </tr>\n",
       "    <tr>\n",
       "      <th>Exited</th>\n",
       "      <td>7500.0</td>\n",
       "      <td>0.20</td>\n",
       "      <td>0.40</td>\n",
       "      <td>0.00</td>\n",
       "      <td>0.00</td>\n",
       "      <td>0.00</td>\n",
       "      <td>0.00</td>\n",
       "      <td>1.00</td>\n",
       "    </tr>\n",
       "    <tr>\n",
       "      <th>Loyalty</th>\n",
       "      <td>7500.0</td>\n",
       "      <td>0.14</td>\n",
       "      <td>0.09</td>\n",
       "      <td>0.00</td>\n",
       "      <td>0.07</td>\n",
       "      <td>0.13</td>\n",
       "      <td>0.20</td>\n",
       "      <td>0.56</td>\n",
       "    </tr>\n",
       "    <tr>\n",
       "      <th>Germany</th>\n",
       "      <td>7500.0</td>\n",
       "      <td>0.25</td>\n",
       "      <td>0.43</td>\n",
       "      <td>0.00</td>\n",
       "      <td>0.00</td>\n",
       "      <td>0.00</td>\n",
       "      <td>0.00</td>\n",
       "      <td>1.00</td>\n",
       "    </tr>\n",
       "    <tr>\n",
       "      <th>Spain</th>\n",
       "      <td>7500.0</td>\n",
       "      <td>0.25</td>\n",
       "      <td>0.43</td>\n",
       "      <td>0.00</td>\n",
       "      <td>0.00</td>\n",
       "      <td>0.00</td>\n",
       "      <td>1.00</td>\n",
       "      <td>1.00</td>\n",
       "    </tr>\n",
       "  </tbody>\n",
       "</table>\n",
       "</div>"
      ],
      "text/plain": [
       "                  count      mean       std     min       25%       50%  \\\n",
       "CreditScore      7500.0    650.51     96.64  350.00    584.00    652.00   \n",
       "Balance          7500.0  76328.20  62385.96    0.00      0.00  96943.32   \n",
       "NumOfProducts    7500.0      1.53      0.58    1.00      1.00      1.00   \n",
       "HasCrCard        7500.0      0.71      0.46    0.00      0.00      1.00   \n",
       "IsActiveMember   7500.0      0.52      0.50    0.00      0.00      1.00   \n",
       "EstimatedSalary  7500.0  99540.47  57295.13   11.58  50417.95  98940.68   \n",
       "Exited           7500.0      0.20      0.40    0.00      0.00      0.00   \n",
       "Loyalty          7500.0      0.14      0.09    0.00      0.07      0.13   \n",
       "Germany          7500.0      0.25      0.43    0.00      0.00      0.00   \n",
       "Spain            7500.0      0.25      0.43    0.00      0.00      0.00   \n",
       "\n",
       "                       75%        max  \n",
       "CreditScore         717.00     850.00  \n",
       "Balance          127785.45  222267.63  \n",
       "NumOfProducts         2.00       4.00  \n",
       "HasCrCard             1.00       1.00  \n",
       "IsActiveMember        1.00       1.00  \n",
       "EstimatedSalary  148428.57  199992.48  \n",
       "Exited                0.00       1.00  \n",
       "Loyalty               0.20       0.56  \n",
       "Germany               0.00       1.00  \n",
       "Spain                 1.00       1.00  "
      ]
     },
     "execution_count": 13,
     "metadata": {},
     "output_type": "execute_result"
    }
   ],
   "source": [
    "# summary statistics - Churn DF\n",
    "\n",
    "hide_code() # hide code cell\n",
    "\n",
    "X_train.describe().T.round(2)"
   ]
  },
  {
   "cell_type": "markdown",
   "id": "49091c03",
   "metadata": {},
   "source": [
    "Scale of variables is wildly different. Example feature `EstimatedSalary` compared to `Loyalty`"
   ]
  },
  {
   "cell_type": "markdown",
   "id": "d4517978",
   "metadata": {},
   "source": [
    "## Distribution of numeric variables - Churn DF - Training Data"
   ]
  },
  {
   "cell_type": "code",
   "execution_count": 14,
   "id": "8ff5f378",
   "metadata": {
    "scrolled": false
   },
   "outputs": [
    {
     "data": {
      "text/html": [
       "\n",
       "<form action=\"javascript:code_toggle()\"><input type=\"submit\" id=\"toggleButton\" value=\"Show Code\"></form>\n"
      ],
      "text/plain": [
       "<IPython.core.display.HTML object>"
      ]
     },
     "metadata": {},
     "output_type": "display_data"
    },
    {
     "data": {
      "image/png": "[encoded data removed]",
      "text/plain": [
       "<Figure size 1080x432 with 9 Axes>"
      ]
     },
     "metadata": {
      "needs_background": "dark"
     },
     "output_type": "display_data"
    }
   ],
   "source": [
    "# visualize numeric variables - Churn DF\n",
    "\n",
    "hide_code() # hide code cell\n",
    "\n",
    "cols = X_train.drop('Exited', axis= 1).columns\n",
    "\n",
    "fig = plt.figure(constrained_layout=True, figsize = (15,6))\n",
    "\n",
    "for i, v  in enumerate(cols):\n",
    "    fig.add_subplot(3, 4, i+1)\n",
    "    sns.histplot(x = X_train[v], color = 'black')\n",
    "    plt.gca().spines[['top', 'right']].set_visible(False)\n",
    "    plt.xticks(rotation = 90);"
   ]
  },
  {
   "cell_type": "markdown",
   "id": "764be438",
   "metadata": {},
   "source": [
    "Not All features are Gaussian."
   ]
  },
  {
   "cell_type": "markdown",
   "id": "0497ee51",
   "metadata": {},
   "source": [
    "## More Feature Engineering"
   ]
  },
  {
   "cell_type": "code",
   "execution_count": 15,
   "id": "3dd7eae4",
   "metadata": {
    "scrolled": false
   },
   "outputs": [
    {
     "data": {
      "text/html": [
       "\n",
       "<form action=\"javascript:code_toggle()\"><input type=\"submit\" id=\"toggleButton\" value=\"Show Code\"></form>\n"
      ],
      "text/plain": [
       "<IPython.core.display.HTML object>"
      ]
     },
     "metadata": {},
     "output_type": "display_data"
    },
    {
     "name": "stdout",
     "output_type": "stream",
     "text": [
      "Feature Transformation - Scaling Data - Churn DF - Training Data\n",
      "-----------------------------------------------------------------\n"
     ]
    },
    {
     "data": {
      "text/html": [
       "<div>\n",
       "<style scoped>\n",
       "    .dataframe tbody tr th:only-of-type {\n",
       "        vertical-align: middle;\n",
       "    }\n",
       "\n",
       "    .dataframe tbody tr th {\n",
       "        vertical-align: top;\n",
       "    }\n",
       "\n",
       "    .dataframe thead th {\n",
       "        text-align: right;\n",
       "    }\n",
       "</style>\n",
       "<table border=\"1\" class=\"dataframe\">\n",
       "  <thead>\n",
       "    <tr style=\"text-align: right;\">\n",
       "      <th></th>\n",
       "      <th>count</th>\n",
       "      <th>mean</th>\n",
       "      <th>std</th>\n",
       "      <th>min</th>\n",
       "      <th>25%</th>\n",
       "      <th>50%</th>\n",
       "      <th>75%</th>\n",
       "      <th>max</th>\n",
       "    </tr>\n",
       "  </thead>\n",
       "  <tbody>\n",
       "    <tr>\n",
       "      <th>CreditScore</th>\n",
       "      <td>7500.0</td>\n",
       "      <td>0.60</td>\n",
       "      <td>0.19</td>\n",
       "      <td>0.0</td>\n",
       "      <td>0.47</td>\n",
       "      <td>0.60</td>\n",
       "      <td>0.73</td>\n",
       "      <td>1.0</td>\n",
       "    </tr>\n",
       "    <tr>\n",
       "      <th>Balance</th>\n",
       "      <td>7500.0</td>\n",
       "      <td>0.34</td>\n",
       "      <td>0.28</td>\n",
       "      <td>0.0</td>\n",
       "      <td>0.00</td>\n",
       "      <td>0.44</td>\n",
       "      <td>0.57</td>\n",
       "      <td>1.0</td>\n",
       "    </tr>\n",
       "    <tr>\n",
       "      <th>NumOfProducts</th>\n",
       "      <td>7500.0</td>\n",
       "      <td>0.18</td>\n",
       "      <td>0.19</td>\n",
       "      <td>0.0</td>\n",
       "      <td>0.00</td>\n",
       "      <td>0.00</td>\n",
       "      <td>0.33</td>\n",
       "      <td>1.0</td>\n",
       "    </tr>\n",
       "    <tr>\n",
       "      <th>HasCrCard</th>\n",
       "      <td>7500.0</td>\n",
       "      <td>0.71</td>\n",
       "      <td>0.46</td>\n",
       "      <td>0.0</td>\n",
       "      <td>0.00</td>\n",
       "      <td>1.00</td>\n",
       "      <td>1.00</td>\n",
       "      <td>1.0</td>\n",
       "    </tr>\n",
       "    <tr>\n",
       "      <th>IsActiveMember</th>\n",
       "      <td>7500.0</td>\n",
       "      <td>0.52</td>\n",
       "      <td>0.50</td>\n",
       "      <td>0.0</td>\n",
       "      <td>0.00</td>\n",
       "      <td>1.00</td>\n",
       "      <td>1.00</td>\n",
       "      <td>1.0</td>\n",
       "    </tr>\n",
       "    <tr>\n",
       "      <th>EstimatedSalary</th>\n",
       "      <td>7500.0</td>\n",
       "      <td>0.50</td>\n",
       "      <td>0.29</td>\n",
       "      <td>0.0</td>\n",
       "      <td>0.25</td>\n",
       "      <td>0.49</td>\n",
       "      <td>0.74</td>\n",
       "      <td>1.0</td>\n",
       "    </tr>\n",
       "    <tr>\n",
       "      <th>Loyalty</th>\n",
       "      <td>7500.0</td>\n",
       "      <td>0.25</td>\n",
       "      <td>0.16</td>\n",
       "      <td>0.0</td>\n",
       "      <td>0.12</td>\n",
       "      <td>0.23</td>\n",
       "      <td>0.36</td>\n",
       "      <td>1.0</td>\n",
       "    </tr>\n",
       "    <tr>\n",
       "      <th>Germany</th>\n",
       "      <td>7500.0</td>\n",
       "      <td>0.25</td>\n",
       "      <td>0.43</td>\n",
       "      <td>0.0</td>\n",
       "      <td>0.00</td>\n",
       "      <td>0.00</td>\n",
       "      <td>0.00</td>\n",
       "      <td>1.0</td>\n",
       "    </tr>\n",
       "    <tr>\n",
       "      <th>Spain</th>\n",
       "      <td>7500.0</td>\n",
       "      <td>0.25</td>\n",
       "      <td>0.43</td>\n",
       "      <td>0.0</td>\n",
       "      <td>0.00</td>\n",
       "      <td>0.00</td>\n",
       "      <td>1.00</td>\n",
       "      <td>1.0</td>\n",
       "    </tr>\n",
       "  </tbody>\n",
       "</table>\n",
       "</div>"
      ],
      "text/plain": [
       "                  count  mean   std  min   25%   50%   75%  max\n",
       "CreditScore      7500.0  0.60  0.19  0.0  0.47  0.60  0.73  1.0\n",
       "Balance          7500.0  0.34  0.28  0.0  0.00  0.44  0.57  1.0\n",
       "NumOfProducts    7500.0  0.18  0.19  0.0  0.00  0.00  0.33  1.0\n",
       "HasCrCard        7500.0  0.71  0.46  0.0  0.00  1.00  1.00  1.0\n",
       "IsActiveMember   7500.0  0.52  0.50  0.0  0.00  1.00  1.00  1.0\n",
       "EstimatedSalary  7500.0  0.50  0.29  0.0  0.25  0.49  0.74  1.0\n",
       "Loyalty          7500.0  0.25  0.16  0.0  0.12  0.23  0.36  1.0\n",
       "Germany          7500.0  0.25  0.43  0.0  0.00  0.00  0.00  1.0\n",
       "Spain            7500.0  0.25  0.43  0.0  0.00  0.00  1.00  1.0"
      ]
     },
     "execution_count": 15,
     "metadata": {},
     "output_type": "execute_result"
    }
   ],
   "source": [
    "# Feature Transformation - Scaling Data - Churn DF\n",
    "\n",
    "hide_code() # hide code cell\n",
    "\n",
    "print('Feature Transformation - Scaling Data - Churn DF - Training Data', '-' * 65, sep = '\\n')\n",
    "\n",
    "# Instantiate the scaler\n",
    "scaler = MinMaxScaler()\n",
    "\n",
    "# Fit the scaler to the training data\n",
    "scaler.fit(X_train.drop('Exited', axis= 1))\n",
    "\n",
    "# Scale the training data\n",
    "X_train_s = pd.DataFrame(scaler.transform(X_train.drop('Exited', axis= 1)), index = X_train.index,\n",
    "                         columns = X_train.drop('Exited', axis= 1).columns)\n",
    "\n",
    "# Scale the test data\n",
    "X_test_s = pd.DataFrame(scaler.transform(X_test.drop('Exited', axis= 1)), index = X_test.index,\n",
    "                        columns = X_test.drop('Exited', axis= 1).columns)\n",
    "\n",
    "\n",
    "\n",
    "X_train_s.describe().T.round(2)"
   ]
  },
  {
   "cell_type": "markdown",
   "id": "95c77bb6",
   "metadata": {},
   "source": [
    "BTW, Naive Bayes doesn't require and is not affected by feature scaling, we already saw this in Our Implementation of Mixed NB model. The problem is that we are forcing non-gaussian features on a gaussian model, where some of the assumption and the way calculations and approximations were designed may be violated. Thus, requiring these extra steps. In a nutshell; Model implementation may differ form one package to another but final result should be the same."
   ]
  },
  {
   "cell_type": "markdown",
   "id": "72698157",
   "metadata": {},
   "source": [
    "## Gaussian NB - Sklearn - Scaled Data"
   ]
  },
  {
   "cell_type": "code",
   "execution_count": 16,
   "id": "6fc1517f",
   "metadata": {
    "scrolled": false
   },
   "outputs": [
    {
     "data": {
      "text/html": [
       "\n",
       "<form action=\"javascript:code_toggle()\"><input type=\"submit\" id=\"toggleButton\" value=\"Show Code\"></form>\n"
      ],
      "text/plain": [
       "<IPython.core.display.HTML object>"
      ]
     },
     "metadata": {},
     "output_type": "display_data"
    },
    {
     "name": "stdout",
     "output_type": "stream",
     "text": [
      "Class priors: [0.79626667 0.20373333]\n",
      "----------------------------------------\n",
      "Estimated Params:\n",
      "---------------\n",
      "[[0.60431916 0.32657458 0.18212771 0.71014735 0.55509042 0.49433146\n",
      "  0.25673272 0.2103148  0.26389819]\n",
      " [0.5881034  0.40919304 0.15903141 0.69568063 0.36649215 0.51082622\n",
      "  0.21469031 0.40248691 0.20549738]]\n",
      "----------------------------------------\n",
      "Classification Report\n",
      "--------------------\n",
      "              precision    recall  f1-score   support\n",
      "\n",
      "           0       0.84      0.94      0.88      1991\n",
      "           1       0.54      0.30      0.39       509\n",
      "\n",
      "    accuracy                           0.81      2500\n",
      "   macro avg       0.69      0.62      0.64      2500\n",
      "weighted avg       0.78      0.81      0.78      2500\n",
      "\n",
      "----------------------------------------\n",
      "Confusion Matrix\n",
      "---------------\n",
      "[[1862  129]\n",
      " [ 355  154]]\n"
     ]
    }
   ],
   "source": [
    "# Gaussian NB - sklearn - Churn DF - scaled data\n",
    "\n",
    "hide_code() # hide code cell\n",
    "\n",
    "gnb = GaussianNB()\n",
    "gnb.fit(X_train_s, X_train.Exited)\n",
    "\n",
    "# Get the predictions on test data\n",
    "y_pred = gnb.predict(X_test_s)\n",
    "\n",
    "print(f'Class priors: {gnb.class_prior_}', '-' * 40, \n",
    "      f'Estimated Params:', '-' * 15, gnb.theta_, '-' * 40, \n",
    "      'Classification Report', '-' * 20, classification_report(y_test, y_pred), '-' * 40, \n",
    "      'Confusion Matrix', '-' * 15, confusion_matrix(y_test, y_pred), sep = '\\n')"
   ]
  },
  {
   "cell_type": "markdown",
   "id": "502bc8fa",
   "metadata": {},
   "source": [
    "## Gaussian NB - Mixed - Scaled Data"
   ]
  },
  {
   "cell_type": "code",
   "execution_count": 17,
   "id": "7d73e881",
   "metadata": {
    "scrolled": false
   },
   "outputs": [
    {
     "data": {
      "text/html": [
       "\n",
       "<form action=\"javascript:code_toggle()\"><input type=\"submit\" id=\"toggleButton\" value=\"Show Code\"></form>\n"
      ],
      "text/plain": [
       "<IPython.core.display.HTML object>"
      ]
     },
     "metadata": {},
     "output_type": "display_data"
    },
    {
     "name": "stdout",
     "output_type": "stream",
     "text": [
      "Mixed NB - Assuming Gaussian Features - Scaled Data\n",
      "-------------------------------------------------------\n"
     ]
    },
    {
     "data": {
      "text/plain": [
       "'Estimated Priors'"
      ]
     },
     "metadata": {},
     "output_type": "display_data"
    },
    {
     "data": {
      "text/plain": [
       "{0: 0.7962666666666667, 1: 0.20373333333333332}"
      ]
     },
     "metadata": {},
     "output_type": "display_data"
    },
    {
     "data": {
      "text/plain": [
       "'Estimated Params'"
      ]
     },
     "metadata": {},
     "output_type": "display_data"
    },
    {
     "data": {
      "text/plain": [
       "{0: {'CreditScore': params_gaussian(mu=0.604, sigma=0.192),\n",
       "  'Balance': params_gaussian(mu=0.327, sigma=0.283),\n",
       "  'NumOfProducts': params_gaussian(mu=0.182, sigma=0.170),\n",
       "  'HasCrCard': params_gaussian(mu=0.710, sigma=0.454),\n",
       "  'IsActiveMember': params_gaussian(mu=0.555, sigma=0.497),\n",
       "  'EstimatedSalary': params_gaussian(mu=0.494, sigma=0.285),\n",
       "  'Loyalty': params_gaussian(mu=0.257, sigma=0.164),\n",
       "  'Germany': params_gaussian(mu=0.210, sigma=0.408),\n",
       "  'Spain': params_gaussian(mu=0.264, sigma=0.441)},\n",
       " 1: {'CreditScore': params_gaussian(mu=0.588, sigma=0.199),\n",
       "  'Balance': params_gaussian(mu=0.409, sigma=0.262),\n",
       "  'NumOfProducts': params_gaussian(mu=0.159, sigma=0.267),\n",
       "  'HasCrCard': params_gaussian(mu=0.696, sigma=0.460),\n",
       "  'IsActiveMember': params_gaussian(mu=0.366, sigma=0.482),\n",
       "  'EstimatedSalary': params_gaussian(mu=0.511, sigma=0.290),\n",
       "  'Loyalty': params_gaussian(mu=0.215, sigma=0.139),\n",
       "  'Germany': params_gaussian(mu=0.402, sigma=0.490),\n",
       "  'Spain': params_gaussian(mu=0.205, sigma=0.404)}}"
      ]
     },
     "metadata": {},
     "output_type": "display_data"
    },
    {
     "name": "stdout",
     "output_type": "stream",
     "text": [
      "Classification Report\n",
      "--------------------\n",
      "              precision    recall  f1-score   support\n",
      "\n",
      "           0       0.84      0.94      0.88      1991\n",
      "           1       0.54      0.30      0.39       509\n",
      "\n",
      "    accuracy                           0.81      2500\n",
      "   macro avg       0.69      0.62      0.64      2500\n",
      "weighted avg       0.78      0.81      0.78      2500\n",
      "\n",
      "----------------------------------------\n",
      "Confusion Matrix\n",
      "---------------\n",
      "[[1862  129]\n",
      " [ 355  154]]\n"
     ]
    }
   ],
   "source": [
    "# MixedNB - Gaussian - Churn DF - scaled data\n",
    "\n",
    "hide_code() # hide code cell\n",
    "\n",
    "tr_df = pd.concat([X_train_s, X_train.Exited], axis = 1)\n",
    "\n",
    "m = mixed_nb().fit(tr_df, 'Exited', dist)\n",
    "\n",
    "y_pred = m.predict(X_test_s)\n",
    "\n",
    "y_test = X_test.Exited\n",
    "\n",
    "print('Mixed NB - Assuming Gaussian Features - Scaled Data', '-' * 55, sep = '\\n')\n",
    "\n",
    "display('Estimated Priors', m.prior_dict, 'Estimated Params', m.params_dict)\n",
    "\n",
    "print('Classification Report', '-' * 20, classification_report(y_test, y_pred), '-' * 40, \n",
    "      'Confusion Matrix', '-' * 15, confusion_matrix(y_test, y_pred),sep = '\\n')"
   ]
  },
  {
   "cell_type": "markdown",
   "id": "49beab1e",
   "metadata": {},
   "source": [
    "Same Results as our implementation."
   ]
  },
  {
   "cell_type": "markdown",
   "id": "c90a3993",
   "metadata": {},
   "source": [
    "**<a href=\"#toc\" style='color:#dc143c'>Table of contents</a>**"
   ]
  },
  {
   "cell_type": "markdown",
   "id": "91533b82",
   "metadata": {},
   "source": [
    "<a id='zf'></a>"
   ]
  },
  {
   "cell_type": "markdown",
   "id": "2df03c39",
   "metadata": {},
   "source": [
    "## Mixed NB - Zero Frequency Problem"
   ]
  },
  {
   "cell_type": "code",
   "execution_count": 18,
   "id": "1815d8de",
   "metadata": {
    "scrolled": false
   },
   "outputs": [
    {
     "data": {
      "text/html": [
       "\n",
       "<form action=\"javascript:code_toggle()\"><input type=\"submit\" id=\"toggleButton\" value=\"Show Code\"></form>\n"
      ],
      "text/plain": [
       "<IPython.core.display.HTML object>"
      ]
     },
     "metadata": {},
     "output_type": "display_data"
    },
    {
     "name": "stdout",
     "output_type": "stream",
     "text": [
      "Mixed NB - Mixed Features - Zero Frequency Problem\n",
      "--------------------------------------------------\n"
     ]
    },
    {
     "ename": "AssertionError",
     "evalue": "Zero frequency encountered for lvl(s) '[1.0]' of 'NumOfProducts' feature in 0' class, please specify alpha or remove feature.",
     "output_type": "error",
     "traceback": [
      "\u001b[1;31m---------------------------------------------------------------------------\u001b[0m",
      "\u001b[1;31mAssertionError\u001b[0m                            Traceback (most recent call last)",
      "Input \u001b[1;32mIn [18]\u001b[0m, in \u001b[0;36m<cell line: 9>\u001b[1;34m()\u001b[0m\n\u001b[0;32m      5\u001b[0m \u001b[38;5;28mprint\u001b[39m(\u001b[38;5;124m'\u001b[39m\u001b[38;5;124mMixed NB - Mixed Features - Zero Frequency Problem\u001b[39m\u001b[38;5;124m'\u001b[39m, \u001b[38;5;124m'\u001b[39m\u001b[38;5;124m-\u001b[39m\u001b[38;5;124m'\u001b[39m \u001b[38;5;241m*\u001b[39m \u001b[38;5;241m50\u001b[39m, sep \u001b[38;5;241m=\u001b[39m \u001b[38;5;124m'\u001b[39m\u001b[38;5;130;01m\\n\u001b[39;00m\u001b[38;5;124m'\u001b[39m)\n\u001b[0;32m      7\u001b[0m dist \u001b[38;5;241m=\u001b[39m \u001b[38;5;28mdict\u001b[39m(\u001b[38;5;28mzip\u001b[39m(X_train\u001b[38;5;241m.\u001b[39mdrop(\u001b[38;5;124m'\u001b[39m\u001b[38;5;124mExited\u001b[39m\u001b[38;5;124m'\u001b[39m, axis\u001b[38;5;241m=\u001b[39m \u001b[38;5;241m1\u001b[39m), [\u001b[38;5;124m'\u001b[39m\u001b[38;5;124mn\u001b[39m\u001b[38;5;124m'\u001b[39m, \u001b[38;5;124m'\u001b[39m\u001b[38;5;124mn\u001b[39m\u001b[38;5;124m'\u001b[39m, \u001b[38;5;124m'\u001b[39m\u001b[38;5;124mc\u001b[39m\u001b[38;5;124m'\u001b[39m, \u001b[38;5;124m'\u001b[39m\u001b[38;5;124mbr\u001b[39m\u001b[38;5;124m'\u001b[39m, \u001b[38;5;124m'\u001b[39m\u001b[38;5;124mbr\u001b[39m\u001b[38;5;124m'\u001b[39m, \u001b[38;5;124m'\u001b[39m\u001b[38;5;124mu\u001b[39m\u001b[38;5;124m'\u001b[39m, \u001b[38;5;124m'\u001b[39m\u001b[38;5;124mn\u001b[39m\u001b[38;5;124m'\u001b[39m, \u001b[38;5;124m'\u001b[39m\u001b[38;5;124mbr\u001b[39m\u001b[38;5;124m'\u001b[39m, \u001b[38;5;124m'\u001b[39m\u001b[38;5;124mbr\u001b[39m\u001b[38;5;124m'\u001b[39m]))\n\u001b[1;32m----> 9\u001b[0m m \u001b[38;5;241m=\u001b[39m \u001b[43mmixed_nb\u001b[49m\u001b[43m(\u001b[49m\u001b[43m)\u001b[49m\u001b[38;5;241;43m.\u001b[39;49m\u001b[43mfit\u001b[49m\u001b[43m(\u001b[49m\u001b[43mtr_df\u001b[49m\u001b[43m,\u001b[49m\u001b[43m \u001b[49m\u001b[38;5;124;43m'\u001b[39;49m\u001b[38;5;124;43mExited\u001b[39;49m\u001b[38;5;124;43m'\u001b[39;49m\u001b[43m,\u001b[49m\u001b[43m \u001b[49m\u001b[43mdist\u001b[49m\u001b[43m)\u001b[49m\n",
      "Input \u001b[1;32mIn [4]\u001b[0m, in \u001b[0;36mmixed_nb.fit\u001b[1;34m(self, df, target, dist)\u001b[0m\n\u001b[0;32m     74\u001b[0m msng \u001b[38;5;241m=\u001b[39m [x \u001b[38;5;28;01mfor\u001b[39;00m x \u001b[38;5;129;01min\u001b[39;00m df[col]\u001b[38;5;241m.\u001b[39munique() \u001b[38;5;28;01mif\u001b[39;00m x \u001b[38;5;129;01mnot\u001b[39;00m \u001b[38;5;129;01min\u001b[39;00m temp_df[col]\u001b[38;5;241m.\u001b[39munique()] \u001b[38;5;66;03m# lvl with zero frequency, if any.\u001b[39;00m\n\u001b[0;32m     75\u001b[0m \u001b[38;5;28;01mif\u001b[39;00m \u001b[38;5;28mself\u001b[39m\u001b[38;5;241m.\u001b[39malpha \u001b[38;5;241m==\u001b[39m \u001b[38;5;241m0\u001b[39m: \u001b[38;5;66;03m# Check for zero frequency\u001b[39;00m\n\u001b[1;32m---> 76\u001b[0m     \u001b[38;5;28;01massert\u001b[39;00m \u001b[38;5;28mlen\u001b[39m(msng) \u001b[38;5;241m==\u001b[39m \u001b[38;5;241m0\u001b[39m, \u001b[38;5;124mf\u001b[39m\u001b[38;5;124m'\u001b[39m\u001b[38;5;124mZero frequency encountered for lvl(s) \u001b[39m\u001b[38;5;130;01m\\'\u001b[39;00m\u001b[38;5;132;01m{\u001b[39;00mmsng\u001b[38;5;132;01m}\u001b[39;00m\u001b[38;5;130;01m\\'\u001b[39;00m\u001b[38;5;124m of \u001b[39m\u001b[38;5;130;01m\\'\u001b[39;00m\u001b[38;5;132;01m{\u001b[39;00mcol\u001b[38;5;132;01m}\u001b[39;00m\u001b[38;5;130;01m\\'\u001b[39;00m\u001b[38;5;124m feature in \u001b[39m\u001b[38;5;124m'\u001b[39m \\\n\u001b[0;32m     77\u001b[0m     \u001b[38;5;124mf\u001b[39m\u001b[38;5;124m'\u001b[39m\u001b[38;5;132;01m{\u001b[39;00mclss\u001b[38;5;132;01m}\u001b[39;00m\u001b[38;5;130;01m\\'\u001b[39;00m\u001b[38;5;124m class, please specify alpha or remove feature.\u001b[39m\u001b[38;5;124m'\u001b[39m     \n\u001b[0;32m     78\u001b[0m     params \u001b[38;5;241m=\u001b[39m temp_df[col]\u001b[38;5;241m.\u001b[39mvalue_counts(normalize \u001b[38;5;241m=\u001b[39m \u001b[38;5;28;01mTrue\u001b[39;00m)\u001b[38;5;241m.\u001b[39msort_index()\u001b[38;5;241m.\u001b[39mto_dict() \u001b[38;5;66;03m# Maximum Likelihood Estimate\u001b[39;00m\n\u001b[0;32m     79\u001b[0m \u001b[38;5;28;01mif\u001b[39;00m \u001b[38;5;28mself\u001b[39m\u001b[38;5;241m.\u001b[39malpha \u001b[38;5;241m>\u001b[39m \u001b[38;5;241m0\u001b[39m:\n",
      "\u001b[1;31mAssertionError\u001b[0m: Zero frequency encountered for lvl(s) '[1.0]' of 'NumOfProducts' feature in 0' class, please specify alpha or remove feature."
     ]
    }
   ],
   "source": [
    "# MixedNB - Churn DF - Mixed\n",
    "\n",
    "hide_code() # hide code cell\n",
    "\n",
    "print('Mixed NB - Mixed Features - Zero Frequency Problem', '-' * 50, sep = '\\n')\n",
    "\n",
    "dist = dict(zip(X_train.drop('Exited', axis= 1), ['n', 'n', 'c', 'br', 'br', 'u', 'n', 'br', 'br']))\n",
    "\n",
    "m = mixed_nb().fit(tr_df, 'Exited', dist)"
   ]
  },
  {
   "cell_type": "markdown",
   "id": "ca42597e",
   "metadata": {},
   "source": [
    "## Mixed NB - Laplace smoothing"
   ]
  },
  {
   "cell_type": "code",
   "execution_count": 19,
   "id": "edf3e5ad",
   "metadata": {
    "scrolled": false
   },
   "outputs": [
    {
     "data": {
      "text/html": [
       "\n",
       "<form action=\"javascript:code_toggle()\"><input type=\"submit\" id=\"toggleButton\" value=\"Show Code\"></form>\n"
      ],
      "text/plain": [
       "<IPython.core.display.HTML object>"
      ]
     },
     "metadata": {},
     "output_type": "display_data"
    },
    {
     "name": "stdout",
     "output_type": "stream",
     "text": [
      "Mixed NB - Mixed Features - Smoothing Alpha = 1 - Scaled Data - Churn DF\n",
      "----------------------------------------------------------------------\n"
     ]
    },
    {
     "data": {
      "text/plain": [
       "'Estimated Priors'"
      ]
     },
     "metadata": {},
     "output_type": "display_data"
    },
    {
     "data": {
      "text/plain": [
       "{0: 0.7962666666666667, 1: 0.20373333333333332}"
      ]
     },
     "metadata": {},
     "output_type": "display_data"
    },
    {
     "data": {
      "text/plain": [
       "'Estimated Params'"
      ]
     },
     "metadata": {},
     "output_type": "display_data"
    },
    {
     "data": {
      "text/plain": [
       "{0: {'CreditScore': params_gaussian(mu=0.604, sigma=0.192),\n",
       "  'Balance': params_gaussian(mu=0.327, sigma=0.283),\n",
       "  'NumOfProducts': {0.0: 0.45967202141900937,\n",
       "   0.3333333333333333: 0.5338018741633199,\n",
       "   0.6666666666666667: 0.006358768406961178,\n",
       "   1.0: 0.00016733601070950468},\n",
       "  'HasCrCard': params_bernoulli(p=0.710),\n",
       "  'IsActiveMember': params_bernoulli(p=0.555),\n",
       "  'EstimatedSalary': params_uniform(a=0.000, b=1.000),\n",
       "  'Loyalty': params_gaussian(mu=0.257, sigma=0.164),\n",
       "  'Germany': params_bernoulli(p=0.210),\n",
       "  'Spain': params_bernoulli(p=0.264)},\n",
       " 1: {'CreditScore': params_gaussian(mu=0.588, sigma=0.199),\n",
       "  'Balance': params_gaussian(mu=0.409, sigma=0.262),\n",
       "  'NumOfProducts': {0.0: 0.6886422976501305,\n",
       "   0.3333333333333333: 0.17232375979112272,\n",
       "   0.6666666666666667: 0.10966057441253264,\n",
       "   1.0: 0.0293733681462141},\n",
       "  'HasCrCard': params_bernoulli(p=0.695),\n",
       "  'IsActiveMember': params_bernoulli(p=0.367),\n",
       "  'EstimatedSalary': params_uniform(a=0.000, b=0.999),\n",
       "  'Loyalty': params_gaussian(mu=0.215, sigma=0.139),\n",
       "  'Germany': params_bernoulli(p=0.403),\n",
       "  'Spain': params_bernoulli(p=0.206)}}"
      ]
     },
     "metadata": {},
     "output_type": "display_data"
    },
    {
     "name": "stdout",
     "output_type": "stream",
     "text": [
      "Classification Report\n",
      "--------------------\n",
      "              precision    recall  f1-score   support\n",
      "\n",
      "           0       0.85      0.96      0.90      1991\n",
      "           1       0.70      0.32      0.44       509\n",
      "\n",
      "    accuracy                           0.83      2500\n",
      "   macro avg       0.77      0.64      0.67      2500\n",
      "weighted avg       0.82      0.83      0.81      2500\n",
      "\n",
      "----------------------------------------\n",
      "Confusion Matrix\n",
      "---------------\n",
      "[[1921   70]\n",
      " [ 347  162]]\n"
     ]
    }
   ],
   "source": [
    "# MixedNB - Churn DF - Mixed - smoothed\n",
    "\n",
    "hide_code() # hide code cell\n",
    "\n",
    "m = mixed_nb(alpha = 1).fit(tr_df, 'Exited', dist)\n",
    "\n",
    "y_pred = m.predict(X_test_s)\n",
    "\n",
    "y_test = X_test.Exited\n",
    "\n",
    "print('Mixed NB - Mixed Features - Smoothing Alpha = 1 - Scaled Data - Churn DF', '-' * 70, sep = '\\n')\n",
    "\n",
    "display('Estimated Priors', m.prior_dict, 'Estimated Params', m.params_dict)\n",
    "\n",
    "print('Classification Report', '-' * 20, classification_report(y_test, y_pred), '-' * 40, \n",
    "      'Confusion Matrix', '-' * 15, confusion_matrix(y_test, y_pred),sep = '\\n')"
   ]
  },
  {
   "cell_type": "markdown",
   "id": "a3ff97a4",
   "metadata": {},
   "source": [
    "**<a href=\"#toc\" style='color:#dc143c'>Table of contents</a>**"
   ]
  },
  {
   "cell_type": "markdown",
   "id": "91bc2aea",
   "metadata": {},
   "source": [
    "<a id='tm'></a>"
   ]
  },
  {
   "cell_type": "markdown",
   "id": "cec0aed0",
   "metadata": {},
   "source": [
    "## Threshold Moving"
   ]
  },
  {
   "cell_type": "code",
   "execution_count": 20,
   "id": "7a836753",
   "metadata": {
    "scrolled": false
   },
   "outputs": [
    {
     "data": {
      "text/html": [
       "\n",
       "<form action=\"javascript:code_toggle()\"><input type=\"submit\" id=\"toggleButton\" value=\"Show Code\"></form>\n"
      ],
      "text/plain": [
       "<IPython.core.display.HTML object>"
      ]
     },
     "metadata": {},
     "output_type": "display_data"
    },
    {
     "data": {
      "application/vnd.jupyter.widget-view+json": {
       "model_id": "aa36fd6e597e4c81ad8be941bf5c8dd9",
       "version_major": 2,
       "version_minor": 0
      },
      "text/plain": [
       "interactive(children=(FloatSlider(value=0.5, description='Thresh', max=1.0), Output()), _dom_classes=('widget-…"
      ]
     },
     "metadata": {},
     "output_type": "display_data"
    }
   ],
   "source": [
    "# Threshold Moving - Churn DF - scaled data\n",
    "\n",
    "hide_code() # hide code cell\n",
    "\n",
    "# predition probability of positive class\n",
    "pred_proba = m.pred_proba[:,1]\n",
    "\n",
    "def thresh_move(thresh):\n",
    "    \n",
    "    # assigning new classification threshold\n",
    "    y_pred = pred_proba > thresh\n",
    "    \n",
    "    print(classification_report(y_test, y_pred, zero_division = 0), '-' * 40, confusion_matrix(y_test, y_pred), sep = '\\n')\n",
    "    \n",
    "    pass\n",
    "   \n",
    "interact(thresh_move,\n",
    "         thresh = FloatSlider(min = 0.0, max = 1, value = .5, step = .1, description = 'Thresh'));"
   ]
  },
  {
   "cell_type": "markdown",
   "id": "a353e7ab",
   "metadata": {},
   "source": [
    "Default classification threshold is .5, which is not optimal for imbalanced classification problem. decreasing threshold results in higher recall as more instances are being classified as positive class however this comes at the expense of decreased precision; there will always be a trade-off between recall and precession."
   ]
  },
  {
   "cell_type": "markdown",
   "id": "0334d0ec",
   "metadata": {},
   "source": [
    "**<a href=\"#toc\" style='color:#dc143c'>Table of contents</a>**"
   ]
  },
  {
   "cell_type": "markdown",
   "id": "b2bc1c73",
   "metadata": {},
   "source": [
    "<a id='impt'></a>"
   ]
  },
  {
   "cell_type": "markdown",
   "id": "daa29824",
   "metadata": {},
   "source": [
    "## Game Day DataFrame"
   ]
  },
  {
   "cell_type": "code",
   "execution_count": 21,
   "id": "f2ca17dc",
   "metadata": {
    "scrolled": false
   },
   "outputs": [
    {
     "data": {
      "text/html": [
       "\n",
       "<form action=\"javascript:code_toggle()\"><input type=\"submit\" id=\"toggleButton\" value=\"Show Code\"></form>\n"
      ],
      "text/plain": [
       "<IPython.core.display.HTML object>"
      ]
     },
     "metadata": {},
     "output_type": "display_data"
    },
    {
     "data": {
      "text/html": [
       "<div>\n",
       "<style scoped>\n",
       "    .dataframe tbody tr th:only-of-type {\n",
       "        vertical-align: middle;\n",
       "    }\n",
       "\n",
       "    .dataframe tbody tr th {\n",
       "        vertical-align: top;\n",
       "    }\n",
       "\n",
       "    .dataframe thead th {\n",
       "        text-align: right;\n",
       "    }\n",
       "</style>\n",
       "<table border=\"1\" class=\"dataframe\">\n",
       "  <thead>\n",
       "    <tr style=\"text-align: right;\">\n",
       "      <th></th>\n",
       "      <th>outlook</th>\n",
       "      <th>temp</th>\n",
       "      <th>humidity</th>\n",
       "      <th>wind</th>\n",
       "      <th>pressure</th>\n",
       "      <th>adv_days</th>\n",
       "      <th>tickets_sold</th>\n",
       "      <th>play</th>\n",
       "    </tr>\n",
       "  </thead>\n",
       "  <tbody>\n",
       "    <tr>\n",
       "      <th>0</th>\n",
       "      <td>Sunny</td>\n",
       "      <td>Hot</td>\n",
       "      <td>High</td>\n",
       "      <td>0</td>\n",
       "      <td>33.487430</td>\n",
       "      <td>7.0</td>\n",
       "      <td>43</td>\n",
       "      <td>No</td>\n",
       "    </tr>\n",
       "    <tr>\n",
       "      <th>1</th>\n",
       "      <td>Sunny</td>\n",
       "      <td>Hot</td>\n",
       "      <td>High</td>\n",
       "      <td>1</td>\n",
       "      <td>34.594983</td>\n",
       "      <td>8.0</td>\n",
       "      <td>41</td>\n",
       "      <td>No</td>\n",
       "    </tr>\n",
       "    <tr>\n",
       "      <th>2</th>\n",
       "      <td>Overcast</td>\n",
       "      <td>Hot</td>\n",
       "      <td>High</td>\n",
       "      <td>0</td>\n",
       "      <td>33.436148</td>\n",
       "      <td>24.0</td>\n",
       "      <td>96</td>\n",
       "      <td>Yes</td>\n",
       "    </tr>\n",
       "    <tr>\n",
       "      <th>3</th>\n",
       "      <td>Rain</td>\n",
       "      <td>Mild</td>\n",
       "      <td>High</td>\n",
       "      <td>0</td>\n",
       "      <td>30.186767</td>\n",
       "      <td>18.0</td>\n",
       "      <td>64</td>\n",
       "      <td>Yes</td>\n",
       "    </tr>\n",
       "    <tr>\n",
       "      <th>4</th>\n",
       "      <td>Rain</td>\n",
       "      <td>Cool</td>\n",
       "      <td>Normal</td>\n",
       "      <td>0</td>\n",
       "      <td>29.132179</td>\n",
       "      <td>16.0</td>\n",
       "      <td>97</td>\n",
       "      <td>Yes</td>\n",
       "    </tr>\n",
       "    <tr>\n",
       "      <th>5</th>\n",
       "      <td>Rain</td>\n",
       "      <td>Cool</td>\n",
       "      <td>Normal</td>\n",
       "      <td>1</td>\n",
       "      <td>33.578395</td>\n",
       "      <td>7.0</td>\n",
       "      <td>26</td>\n",
       "      <td>No</td>\n",
       "    </tr>\n",
       "    <tr>\n",
       "      <th>6</th>\n",
       "      <td>Overcast</td>\n",
       "      <td>Cool</td>\n",
       "      <td>Normal</td>\n",
       "      <td>1</td>\n",
       "      <td>27.864687</td>\n",
       "      <td>14.0</td>\n",
       "      <td>79</td>\n",
       "      <td>Yes</td>\n",
       "    </tr>\n",
       "    <tr>\n",
       "      <th>7</th>\n",
       "      <td>Sunny</td>\n",
       "      <td>Mild</td>\n",
       "      <td>High</td>\n",
       "      <td>0</td>\n",
       "      <td>36.531480</td>\n",
       "      <td>12.0</td>\n",
       "      <td>41</td>\n",
       "      <td>No</td>\n",
       "    </tr>\n",
       "    <tr>\n",
       "      <th>8</th>\n",
       "      <td>Sunny</td>\n",
       "      <td>Cool</td>\n",
       "      <td>Normal</td>\n",
       "      <td>0</td>\n",
       "      <td>29.790530</td>\n",
       "      <td>18.0</td>\n",
       "      <td>57</td>\n",
       "      <td>Yes</td>\n",
       "    </tr>\n",
       "    <tr>\n",
       "      <th>9</th>\n",
       "      <td>Rain</td>\n",
       "      <td>Mild</td>\n",
       "      <td>Normal</td>\n",
       "      <td>0</td>\n",
       "      <td>29.897680</td>\n",
       "      <td>18.0</td>\n",
       "      <td>81</td>\n",
       "      <td>Yes</td>\n",
       "    </tr>\n",
       "    <tr>\n",
       "      <th>10</th>\n",
       "      <td>Sunny</td>\n",
       "      <td>Mild</td>\n",
       "      <td>Normal</td>\n",
       "      <td>1</td>\n",
       "      <td>27.510965</td>\n",
       "      <td>14.0</td>\n",
       "      <td>67</td>\n",
       "      <td>Yes</td>\n",
       "    </tr>\n",
       "    <tr>\n",
       "      <th>11</th>\n",
       "      <td>Overcast</td>\n",
       "      <td>Mild</td>\n",
       "      <td>High</td>\n",
       "      <td>1</td>\n",
       "      <td>28.528671</td>\n",
       "      <td>15.0</td>\n",
       "      <td>84</td>\n",
       "      <td>Yes</td>\n",
       "    </tr>\n",
       "    <tr>\n",
       "      <th>12</th>\n",
       "      <td>Overcast</td>\n",
       "      <td>Hot</td>\n",
       "      <td>Normal</td>\n",
       "      <td>0</td>\n",
       "      <td>28.206787</td>\n",
       "      <td>15.0</td>\n",
       "      <td>62</td>\n",
       "      <td>Yes</td>\n",
       "    </tr>\n",
       "    <tr>\n",
       "      <th>13</th>\n",
       "      <td>Rain</td>\n",
       "      <td>Mild</td>\n",
       "      <td>High</td>\n",
       "      <td>1</td>\n",
       "      <td>32.888418</td>\n",
       "      <td>6.0</td>\n",
       "      <td>32</td>\n",
       "      <td>No</td>\n",
       "    </tr>\n",
       "  </tbody>\n",
       "</table>\n",
       "</div>"
      ],
      "text/plain": [
       "     outlook  temp humidity  wind   pressure  adv_days  tickets_sold play\n",
       "0      Sunny   Hot     High     0  33.487430       7.0            43   No\n",
       "1      Sunny   Hot     High     1  34.594983       8.0            41   No\n",
       "2   Overcast   Hot     High     0  33.436148      24.0            96  Yes\n",
       "3       Rain  Mild     High     0  30.186767      18.0            64  Yes\n",
       "4       Rain  Cool   Normal     0  29.132179      16.0            97  Yes\n",
       "5       Rain  Cool   Normal     1  33.578395       7.0            26   No\n",
       "6   Overcast  Cool   Normal     1  27.864687      14.0            79  Yes\n",
       "7      Sunny  Mild     High     0  36.531480      12.0            41   No\n",
       "8      Sunny  Cool   Normal     0  29.790530      18.0            57  Yes\n",
       "9       Rain  Mild   Normal     0  29.897680      18.0            81  Yes\n",
       "10     Sunny  Mild   Normal     1  27.510965      14.0            67  Yes\n",
       "11  Overcast  Mild     High     1  28.528671      15.0            84  Yes\n",
       "12  Overcast   Hot   Normal     0  28.206787      15.0            62  Yes\n",
       "13      Rain  Mild     High     1  32.888418       6.0            32   No"
      ]
     },
     "execution_count": 21,
     "metadata": {},
     "output_type": "execute_result"
    }
   ],
   "source": [
    "# Play DF - Mixed\n",
    "\n",
    "hide_code() # hide code cell\n",
    "\n",
    "play_df = pd.read_csv('mixdnb_df.csv')\n",
    "\n",
    "play_df"
   ]
  },
  {
   "cell_type": "markdown",
   "id": "8a2e2421",
   "metadata": {},
   "source": [
    "## Mixed NB - Game Day Data - laplace smoothing"
   ]
  },
  {
   "cell_type": "code",
   "execution_count": 22,
   "id": "4a6460b2",
   "metadata": {
    "scrolled": false
   },
   "outputs": [
    {
     "data": {
      "text/html": [
       "\n",
       "<form action=\"javascript:code_toggle()\"><input type=\"submit\" id=\"toggleButton\" value=\"Show Code\"></form>\n"
      ],
      "text/plain": [
       "<IPython.core.display.HTML object>"
      ]
     },
     "metadata": {},
     "output_type": "display_data"
    },
    {
     "name": "stdout",
     "output_type": "stream",
     "text": [
      "Mixed NB - Mixed Features - Smoothing Alpha = 1 - Play DF\n",
      "---------------------------------------------\n"
     ]
    },
    {
     "data": {
      "text/plain": [
       "'Estimated Priors'"
      ]
     },
     "metadata": {},
     "output_type": "display_data"
    },
    {
     "data": {
      "text/plain": [
       "{'No': 0.35714285714285715, 'Yes': 0.6428571428571429}"
      ]
     },
     "metadata": {},
     "output_type": "display_data"
    },
    {
     "data": {
      "text/plain": [
       "'Estimated Params'"
      ]
     },
     "metadata": {},
     "output_type": "display_data"
    },
    {
     "data": {
      "text/plain": [
       "{'No': {'outlook': {'Overcast': 0.125, 'Rain': 0.375, 'Sunny': 0.5},\n",
       "  'temp': {'Cool': 0.25, 'Hot': 0.375, 'Mild': 0.375},\n",
       "  'humidity': {'High': 0.7142857142857143, 'Normal': 0.2857142857142857},\n",
       "  'wind': params_bernoulli(p=0.571),\n",
       "  'pressure': params_gaussian(mu=34.216, sigma=1.281),\n",
       "  'adv_days': params_binomial(n=30.000, p=0.267),\n",
       "  'tickets_sold': params_uniform(a=26.000, b=43.000)},\n",
       " 'Yes': {'outlook': {'Overcast': 0.4166666666666667,\n",
       "   'Rain': 0.3333333333333333,\n",
       "   'Sunny': 0.25},\n",
       "  'temp': {'Cool': 0.3333333333333333,\n",
       "   'Hot': 0.25,\n",
       "   'Mild': 0.4166666666666667},\n",
       "  'humidity': {'High': 0.36363636363636365, 'Normal': 0.6363636363636364},\n",
       "  'wind': params_bernoulli(p=0.364),\n",
       "  'pressure': params_gaussian(mu=29.395, sigma=1.683),\n",
       "  'adv_days': params_binomial(n=30.000, p=0.563),\n",
       "  'tickets_sold': params_uniform(a=57.000, b=97.000)}}"
      ]
     },
     "metadata": {},
     "output_type": "display_data"
    }
   ],
   "source": [
    "# Mixed NB - Play DF\n",
    "\n",
    "hide_code() # hide code cell\n",
    "\n",
    "print('Mixed NB - Mixed Features - Smoothing Alpha = 1 - Play DF', '-' * 45, sep = '\\n')\n",
    "\n",
    "dist = dict(zip(play_df.columns[:-1], ['c', 'c', 'c', 'br', 'n', 'bi', 'u']))\n",
    "\n",
    "m = mixed_nb(alpha = 1).fit(play_df, 'play', dist)\n",
    "\n",
    "display('Estimated Priors', m.prior_dict, 'Estimated Params', m.params_dict)"
   ]
  },
  {
   "cell_type": "markdown",
   "id": "a0292e88",
   "metadata": {},
   "source": [
    "## MixedNB vs Sklearn - Play DF - Bernoulli"
   ]
  },
  {
   "cell_type": "code",
   "execution_count": 23,
   "id": "cbe81411",
   "metadata": {
    "scrolled": false
   },
   "outputs": [
    {
     "data": {
      "text/html": [
       "\n",
       "<form action=\"javascript:code_toggle()\"><input type=\"submit\" id=\"toggleButton\" value=\"Show Code\"></form>\n"
      ],
      "text/plain": [
       "<IPython.core.display.HTML object>"
      ]
     },
     "metadata": {},
     "output_type": "display_data"
    },
    {
     "data": {
      "text/plain": [
       "'Estimated Params'"
      ]
     },
     "metadata": {},
     "output_type": "display_data"
    },
    {
     "data": {
      "text/html": [
       "<div>\n",
       "<style scoped>\n",
       "    .dataframe tbody tr th:only-of-type {\n",
       "        vertical-align: middle;\n",
       "    }\n",
       "\n",
       "    .dataframe tbody tr th {\n",
       "        vertical-align: top;\n",
       "    }\n",
       "\n",
       "    .dataframe thead th {\n",
       "        text-align: right;\n",
       "    }\n",
       "</style>\n",
       "<table border=\"1\" class=\"dataframe\">\n",
       "  <thead>\n",
       "    <tr style=\"text-align: right;\">\n",
       "      <th></th>\n",
       "      <th>humidity</th>\n",
       "      <th>wind</th>\n",
       "    </tr>\n",
       "  </thead>\n",
       "  <tbody>\n",
       "    <tr>\n",
       "      <th>mxd_0</th>\n",
       "      <td>0.714</td>\n",
       "      <td>0.571</td>\n",
       "    </tr>\n",
       "    <tr>\n",
       "      <th>skl_0</th>\n",
       "      <td>0.714</td>\n",
       "      <td>0.571</td>\n",
       "    </tr>\n",
       "    <tr>\n",
       "      <th>mxd_1</th>\n",
       "      <td>0.364</td>\n",
       "      <td>0.364</td>\n",
       "    </tr>\n",
       "    <tr>\n",
       "      <th>skl_1</th>\n",
       "      <td>0.364</td>\n",
       "      <td>0.364</td>\n",
       "    </tr>\n",
       "  </tbody>\n",
       "</table>\n",
       "</div>"
      ],
      "text/plain": [
       "       humidity   wind\n",
       "mxd_0     0.714  0.571\n",
       "skl_0     0.714  0.571\n",
       "mxd_1     0.364  0.364\n",
       "skl_1     0.364  0.364"
      ]
     },
     "metadata": {},
     "output_type": "display_data"
    }
   ],
   "source": [
    "# MixedNB vs Sklearn - Play DF - Bernoulli\n",
    "\n",
    "hide_code() # hide code cell\n",
    "\n",
    "# bernoulli features\n",
    "bern_df = play_df[['humidity', 'wind', 'play']].copy()\n",
    "bern_df.humidity = bern_df.humidity.map({'High':1, 'Normal':0})\n",
    "bern_df.play = bern_df.play.map({'Yes':1, 'No':0})\n",
    "\n",
    "# MixedNB - Bernoulli\n",
    "dist = dict(zip(bern_df.columns[:-1], ['br' for _ in range(len(bern_df.columns[:-1]))]))\n",
    "m = mixed_nb(alpha = 1).fit(bern_df, 'play', dist)\n",
    "\n",
    "# Sklearn - Bernoulli\n",
    "bnb = BernoulliNB()\n",
    "bnb.fit(bern_df.drop('play', axis = 1), bern_df.play)\n",
    "\n",
    "# Comparison DF\n",
    "params_df = pd.DataFrame(index = bern_df.columns[:-1])\n",
    "\n",
    "params_df['mxd_0'] = [m.params_dict[0][_].p.round(3) for _ in bern_df.columns[:-1]]\n",
    "params_df['skl_0'] = np.exp(bnb.feature_log_prob_[0]).round(3)\n",
    "params_df['mxd_1'] = [m.params_dict[1][_].p.round(3) for _ in bern_df.columns[:-1]]\n",
    "params_df['skl_1'] = np.exp(bnb.feature_log_prob_[1]).round(3)\n",
    "\n",
    "display('Estimated Params', params_df.T)"
   ]
  },
  {
   "cell_type": "markdown",
   "id": "af3d6212",
   "metadata": {},
   "source": [
    "## MixedNB vs Sklearn - Play DF - Categorical"
   ]
  },
  {
   "cell_type": "code",
   "execution_count": 24,
   "id": "e3f76e1a",
   "metadata": {
    "scrolled": false
   },
   "outputs": [
    {
     "data": {
      "text/html": [
       "\n",
       "<form action=\"javascript:code_toggle()\"><input type=\"submit\" id=\"toggleButton\" value=\"Show Code\"></form>\n"
      ],
      "text/plain": [
       "<IPython.core.display.HTML object>"
      ]
     },
     "metadata": {},
     "output_type": "display_data"
    },
    {
     "data": {
      "text/plain": [
       "'Estimated Params'"
      ]
     },
     "metadata": {},
     "output_type": "display_data"
    },
    {
     "data": {
      "text/html": [
       "<div>\n",
       "<style scoped>\n",
       "    .dataframe tbody tr th:only-of-type {\n",
       "        vertical-align: middle;\n",
       "    }\n",
       "\n",
       "    .dataframe tbody tr th {\n",
       "        vertical-align: top;\n",
       "    }\n",
       "\n",
       "    .dataframe thead th {\n",
       "        text-align: right;\n",
       "    }\n",
       "</style>\n",
       "<table border=\"1\" class=\"dataframe\">\n",
       "  <thead>\n",
       "    <tr style=\"text-align: right;\">\n",
       "      <th></th>\n",
       "      <th>Overcast</th>\n",
       "      <th>Rain</th>\n",
       "      <th>Sunny</th>\n",
       "      <th>Cool</th>\n",
       "      <th>Hot</th>\n",
       "      <th>Mild</th>\n",
       "    </tr>\n",
       "  </thead>\n",
       "  <tbody>\n",
       "    <tr>\n",
       "      <th>mxd_0</th>\n",
       "      <td>0.125</td>\n",
       "      <td>0.375</td>\n",
       "      <td>0.50</td>\n",
       "      <td>0.250</td>\n",
       "      <td>0.375</td>\n",
       "      <td>0.375</td>\n",
       "    </tr>\n",
       "    <tr>\n",
       "      <th>skl_0</th>\n",
       "      <td>0.125</td>\n",
       "      <td>0.375</td>\n",
       "      <td>0.50</td>\n",
       "      <td>0.250</td>\n",
       "      <td>0.375</td>\n",
       "      <td>0.375</td>\n",
       "    </tr>\n",
       "    <tr>\n",
       "      <th>mxd_1</th>\n",
       "      <td>0.417</td>\n",
       "      <td>0.333</td>\n",
       "      <td>0.25</td>\n",
       "      <td>0.333</td>\n",
       "      <td>0.250</td>\n",
       "      <td>0.417</td>\n",
       "    </tr>\n",
       "    <tr>\n",
       "      <th>skl_1</th>\n",
       "      <td>0.417</td>\n",
       "      <td>0.333</td>\n",
       "      <td>0.25</td>\n",
       "      <td>0.333</td>\n",
       "      <td>0.250</td>\n",
       "      <td>0.417</td>\n",
       "    </tr>\n",
       "  </tbody>\n",
       "</table>\n",
       "</div>"
      ],
      "text/plain": [
       "       Overcast   Rain  Sunny   Cool    Hot   Mild\n",
       "mxd_0     0.125  0.375   0.50  0.250  0.375  0.375\n",
       "skl_0     0.125  0.375   0.50  0.250  0.375  0.375\n",
       "mxd_1     0.417  0.333   0.25  0.333  0.250  0.417\n",
       "skl_1     0.417  0.333   0.25  0.333  0.250  0.417"
      ]
     },
     "metadata": {},
     "output_type": "display_data"
    }
   ],
   "source": [
    "# MixedNB vs Sklearn - Play DF - Categorical\n",
    "\n",
    "hide_code() # hide code cell\n",
    "\n",
    "# categorical features only\n",
    "cat_df = play_df[['outlook', 'temp', 'play']].copy()\n",
    "\n",
    "# MixedNB - Categorical\n",
    "dist = dict(zip(cat_df.columns[:-1], ['c' for _ in range(len(cat_df.columns[:-1]))]))\n",
    "m = mixed_nb(alpha = 1).fit(cat_df, 'play', dist)\n",
    "\n",
    "# Feature Encoding for Sklearn\n",
    "cat_df_sk = cat_df.copy()\n",
    "\n",
    "for col in cat_df_sk.columns:\n",
    "    cat_df_sk[col] = LabelEncoder().fit_transform(cat_df_sk[col])\n",
    "\n",
    "# Sklearn - Categorical\n",
    "cnb = CategoricalNB()\n",
    "cnb.fit(cat_df_sk.drop('play', axis = 1), cat_df_sk.play)\n",
    "\n",
    "# Comparison DF\n",
    "idx = np.r_[sorted(play_df.outlook.unique()), sorted(play_df.temp.unique())]\n",
    "params_df = pd.DataFrame(index = idx)\n",
    "\n",
    "cnb_params = cnb.feature_log_prob_\n",
    "\n",
    "params_df['mxd_0'] = pd.json_normalize(m.params_dict['No'], sep = '_').values[0]\n",
    "params_df['skl_0'] = np.exp(np.r_[cnb_params[0][0], cnb_params[1][0]])\n",
    "params_df['mxd_1'] = pd.json_normalize(m.params_dict['Yes'], sep = '_').values[0]\n",
    "params_df['skl_1'] = np.exp(np.r_[cnb_params[0][1], cnb_params[1][1]])\n",
    "\n",
    "display('Estimated Params', params_df.T.round(3))"
   ]
  },
  {
   "cell_type": "markdown",
   "id": "d56bed00",
   "metadata": {},
   "source": [
    "**<a href=\"#toc\" style='color:#dc143c'>Table of contents</a>**"
   ]
  },
  {
   "cell_type": "markdown",
   "id": "4042e6e4",
   "metadata": {},
   "source": [
    "<a id='gc'></a>"
   ]
  },
  {
   "cell_type": "markdown",
   "id": "13252715",
   "metadata": {},
   "source": [
    "## Bays Rule Syntax - Single Event - Groupby vs Crosstab"
   ]
  },
  {
   "cell_type": "code",
   "execution_count": 25,
   "id": "9af3b3f5",
   "metadata": {
    "scrolled": false
   },
   "outputs": [
    {
     "data": {
      "text/html": [
       "\n",
       "<form action=\"javascript:code_toggle()\"><input type=\"submit\" id=\"toggleButton\" value=\"Show Code\"></form>\n"
      ],
      "text/plain": [
       "<IPython.core.display.HTML object>"
      ]
     },
     "metadata": {},
     "output_type": "display_data"
    },
    {
     "name": "stdout",
     "output_type": "stream",
     "text": [
      "Bays Rule - Groupby vs Crosstab\n",
      "---------------------------------\n"
     ]
    },
    {
     "data": {
      "text/plain": [
       "'P(C | E)'"
      ]
     },
     "metadata": {},
     "output_type": "display_data"
    },
    {
     "data": {
      "text/plain": [
       "outlook   play\n",
       "Overcast  Yes     1.0\n",
       "Rain      Yes     0.6\n",
       "          No      0.4\n",
       "Sunny     No      0.6\n",
       "          Yes     0.4\n",
       "Name: play, dtype: float64"
      ]
     },
     "metadata": {},
     "output_type": "display_data"
    },
    {
     "data": {
      "text/html": [
       "<div>\n",
       "<style scoped>\n",
       "    .dataframe tbody tr th:only-of-type {\n",
       "        vertical-align: middle;\n",
       "    }\n",
       "\n",
       "    .dataframe tbody tr th {\n",
       "        vertical-align: top;\n",
       "    }\n",
       "\n",
       "    .dataframe thead th {\n",
       "        text-align: right;\n",
       "    }\n",
       "</style>\n",
       "<table border=\"1\" class=\"dataframe\">\n",
       "  <thead>\n",
       "    <tr style=\"text-align: right;\">\n",
       "      <th>outlook</th>\n",
       "      <th>Overcast</th>\n",
       "      <th>Rain</th>\n",
       "      <th>Sunny</th>\n",
       "    </tr>\n",
       "    <tr>\n",
       "      <th>play</th>\n",
       "      <th></th>\n",
       "      <th></th>\n",
       "      <th></th>\n",
       "    </tr>\n",
       "  </thead>\n",
       "  <tbody>\n",
       "    <tr>\n",
       "      <th>No</th>\n",
       "      <td>0.0</td>\n",
       "      <td>0.4</td>\n",
       "      <td>0.6</td>\n",
       "    </tr>\n",
       "    <tr>\n",
       "      <th>Yes</th>\n",
       "      <td>1.0</td>\n",
       "      <td>0.6</td>\n",
       "      <td>0.4</td>\n",
       "    </tr>\n",
       "  </tbody>\n",
       "</table>\n",
       "</div>"
      ],
      "text/plain": [
       "outlook  Overcast  Rain  Sunny\n",
       "play                          \n",
       "No            0.0   0.4    0.6\n",
       "Yes           1.0   0.6    0.4"
      ]
     },
     "metadata": {},
     "output_type": "display_data"
    },
    {
     "data": {
      "text/plain": [
       "'P(E | C)'"
      ]
     },
     "metadata": {},
     "output_type": "display_data"
    },
    {
     "data": {
      "text/plain": [
       "play  outlook \n",
       "No    Sunny       0.600000\n",
       "      Rain        0.400000\n",
       "Yes   Overcast    0.444444\n",
       "      Rain        0.333333\n",
       "      Sunny       0.222222\n",
       "Name: outlook, dtype: float64"
      ]
     },
     "metadata": {},
     "output_type": "display_data"
    },
    {
     "data": {
      "text/html": [
       "<div>\n",
       "<style scoped>\n",
       "    .dataframe tbody tr th:only-of-type {\n",
       "        vertical-align: middle;\n",
       "    }\n",
       "\n",
       "    .dataframe tbody tr th {\n",
       "        vertical-align: top;\n",
       "    }\n",
       "\n",
       "    .dataframe thead th {\n",
       "        text-align: right;\n",
       "    }\n",
       "</style>\n",
       "<table border=\"1\" class=\"dataframe\">\n",
       "  <thead>\n",
       "    <tr style=\"text-align: right;\">\n",
       "      <th>outlook</th>\n",
       "      <th>Overcast</th>\n",
       "      <th>Rain</th>\n",
       "      <th>Sunny</th>\n",
       "    </tr>\n",
       "    <tr>\n",
       "      <th>play</th>\n",
       "      <th></th>\n",
       "      <th></th>\n",
       "      <th></th>\n",
       "    </tr>\n",
       "  </thead>\n",
       "  <tbody>\n",
       "    <tr>\n",
       "      <th>No</th>\n",
       "      <td>0.00</td>\n",
       "      <td>0.40</td>\n",
       "      <td>0.60</td>\n",
       "    </tr>\n",
       "    <tr>\n",
       "      <th>Yes</th>\n",
       "      <td>0.44</td>\n",
       "      <td>0.33</td>\n",
       "      <td>0.22</td>\n",
       "    </tr>\n",
       "  </tbody>\n",
       "</table>\n",
       "</div>"
      ],
      "text/plain": [
       "outlook  Overcast  Rain  Sunny\n",
       "play                          \n",
       "No           0.00  0.40   0.60\n",
       "Yes          0.44  0.33   0.22"
      ]
     },
     "metadata": {},
     "output_type": "display_data"
    }
   ],
   "source": [
    "# Syntax for Bays Rule\n",
    "\n",
    "hide_code() # hide code cell\n",
    "\n",
    "print('Bays Rule - Groupby vs Crosstab', '-' * 33, sep = '\\n')\n",
    "\n",
    "# P(class | event) -> normalize by 'index' OR groupby(event)[class]\n",
    "# P(event | class) -> normalize by 'columns' OR groupby(class)[event]\n",
    "\n",
    "display('P(C | E)', play_df.groupby('outlook').play.value_counts(normalize=True),\n",
    "        pd.crosstab(play_df.outlook, play_df.play, normalize = 'index').round(2).T,\n",
    "        'P(E | C)', play_df.groupby('play').outlook.value_counts(normalize=True),\n",
    "        pd.crosstab(play_df.outlook, play_df.play, normalize = 'columns').round(2).T)        "
   ]
  },
  {
   "cell_type": "code",
   "execution_count": 26,
   "id": "e1ba2cfd",
   "metadata": {},
   "outputs": [
    {
     "data": {
      "text/html": [
       "<div>\n",
       "<style scoped>\n",
       "    .dataframe tbody tr th:only-of-type {\n",
       "        vertical-align: middle;\n",
       "    }\n",
       "\n",
       "    .dataframe tbody tr th {\n",
       "        vertical-align: top;\n",
       "    }\n",
       "\n",
       "    .dataframe thead th {\n",
       "        text-align: right;\n",
       "    }\n",
       "</style>\n",
       "<table border=\"1\" class=\"dataframe\">\n",
       "  <thead>\n",
       "    <tr style=\"text-align: right;\">\n",
       "      <th>outlook</th>\n",
       "      <th>Overcast</th>\n",
       "      <th>Rain</th>\n",
       "      <th>Sunny</th>\n",
       "    </tr>\n",
       "    <tr>\n",
       "      <th>play</th>\n",
       "      <th></th>\n",
       "      <th></th>\n",
       "      <th></th>\n",
       "    </tr>\n",
       "  </thead>\n",
       "  <tbody>\n",
       "    <tr>\n",
       "      <th>No</th>\n",
       "      <td>0</td>\n",
       "      <td>2</td>\n",
       "      <td>3</td>\n",
       "    </tr>\n",
       "    <tr>\n",
       "      <th>Yes</th>\n",
       "      <td>4</td>\n",
       "      <td>3</td>\n",
       "      <td>2</td>\n",
       "    </tr>\n",
       "  </tbody>\n",
       "</table>\n",
       "</div>"
      ],
      "text/plain": [
       "outlook  Overcast  Rain  Sunny\n",
       "play                          \n",
       "No              0     2      3\n",
       "Yes             4     3      2"
      ]
     },
     "execution_count": 26,
     "metadata": {},
     "output_type": "execute_result"
    }
   ],
   "source": [
    "pd.crosstab(play_df.outlook, play_df.play).round(2).T"
   ]
  },
  {
   "cell_type": "markdown",
   "id": "b3d333a6",
   "metadata": {},
   "source": [
    "**<a href=\"#toc\" style='color:#dc143c'>Table of contents</a>**"
   ]
  },
  {
   "cell_type": "markdown",
   "id": "50e4a706",
   "metadata": {},
   "source": [
    "Check My [YT Channel](https://www.youtube.com/@ammopy)"
   ]
  }
 ],
 "metadata": {
  "kernelspec": {
   "display_name": "Python 3 (ipykernel)",
   "language": "python",
   "name": "python3"
  },
  "language_info": {
   "codemirror_mode": {
    "name": "ipython",
    "version": 3
   },
   "file_extension": ".py",
   "mimetype": "text/x-python",
   "name": "python",
   "nbconvert_exporter": "python",
   "pygments_lexer": "ipython3",
   "version": "3.9.4"
  }
 },
 "nbformat": 4,
 "nbformat_minor": 5
}
